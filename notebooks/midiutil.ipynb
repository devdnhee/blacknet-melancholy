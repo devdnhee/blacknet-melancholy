{
 "cells": [
  {
   "cell_type": "markdown",
   "metadata": {},
   "source": [
    "## GP to Mid with midiutil"
   ]
  },
  {
   "cell_type": "code",
   "execution_count": 2,
   "metadata": {},
   "outputs": [],
   "source": [
    "import guitarpro as gp\n",
    "import sys\n",
    "import os\n",
    "sys.path.append('..')\n",
    "import blacknet.settings as s\n",
    "\n",
    "import midiutil as mu\n",
    "\n",
    "def obj_attr(obj):\n",
    "    l = list(filter(lambda x: not x.startswith('__'), dir(obj)))\n",
    "    print(l)"
   ]
  },
  {
   "cell_type": "code",
   "execution_count": 3,
   "metadata": {},
   "outputs": [],
   "source": [
    "# GuitarPro functions\n",
    "TUNINGS = {\n",
    "    'EADGBE': [('E', 4), ('B', 3), ('G', 3), ('D', 3), ('A', 2), ('E', 2)]\n",
    "}\n",
    "\n",
    "NOTE_MAP = {\n",
    "    'C': 0, 'C#': 1, 'D': 2, 'D#': 3, 'E': 4, 'F': 5, 'F#': 6, 'G': 7, 'G#': 8, 'A': 9, 'A#': 10, 'B': 11\n",
    "}\n",
    "\n",
    "def note2midi(note, octave):\n",
    "    '''C_{-1} = 0'''\n",
    "    return (octave + 1) * 12 + NOTE_MAP[note]\n",
    "\n",
    "def tuning_to_notes(tuning):\n",
    "    return [note2midi(*t) for t in tuning]\n",
    "\n",
    "def tab2midi(string, fret, tuning='EADGBE'):\n",
    "    '''get midinote from fretboard guitar\n",
    "    \n",
    "    Watch out: string is base-1'''\n",
    "    if type(tuning) == str:\n",
    "        tuning = TUNINGS[tuning]\n",
    "    return note2midi(*tuning[string-1]) + fret"
   ]
  },
  {
   "cell_type": "code",
   "execution_count": null,
   "metadata": {},
   "outputs": [],
   "source": [
    "fp_test = os.path.join(s.MIDI_DIR, 'miditest', 'Silverstein - Smashed Into Pieces.mid')\n",
    "fp = os.path.join(s.GUITARPRO_DIR, 'miditest', 'Silverstein - Smashed Into Pieces.gp4')\n",
    "silv = gp.parse(os.path.join(gp_files, fp))\n"
   ]
  }
 ],
 "metadata": {
  "kernelspec": {
   "display_name": "Python 3",
   "language": "python",
   "name": "python3"
  },
  "language_info": {
   "codemirror_mode": {
    "name": "ipython",
    "version": 3
   },
   "file_extension": ".py",
   "mimetype": "text/x-python",
   "name": "python",
   "nbconvert_exporter": "python",
   "pygments_lexer": "ipython3",
   "version": "3.6.4"
  }
 },
 "nbformat": 4,
 "nbformat_minor": 2
}
