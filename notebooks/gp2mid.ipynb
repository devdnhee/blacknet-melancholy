{
 "cells": [
  {
   "cell_type": "code",
   "execution_count": 1,
   "metadata": {},
   "outputs": [],
   "source": [
    "import guitarpro as gp\n",
    "import mido\n",
    "import sys\n",
    "import os\n",
    "sys.path.append('..')"
   ]
  },
  {
   "cell_type": "code",
   "execution_count": 2,
   "metadata": {},
   "outputs": [],
   "source": [
    "import blacknet.settings as s"
   ]
  },
  {
   "cell_type": "code",
   "execution_count": 3,
   "metadata": {},
   "outputs": [],
   "source": [
    "def obj_attr(obj):\n",
    "    l = list(filter(lambda x: not x.startswith('__'), dir(obj)))\n",
    "    print(l)"
   ]
  },
  {
   "cell_type": "code",
   "execution_count": 4,
   "metadata": {},
   "outputs": [],
   "source": [
    "gp_files = os.path.join(s.GUITARPRO_DIR, 'miditest')"
   ]
  },
  {
   "cell_type": "code",
   "execution_count": 5,
   "metadata": {},
   "outputs": [],
   "source": [
    "fp = os.path.join(s.GUITARPRO_DIR, 'miditest', 'Silverstein - Smashed Into Pieces.gp4')\n",
    "silv = gp.parse(os.path.join(gp_files, fp))"
   ]
  },
  {
   "cell_type": "code",
   "execution_count": 6,
   "metadata": {},
   "outputs": [],
   "source": [
    "fp = os.path.join(s.GUITARPRO_DIR, 'posthardcore', 'Strung Out - Velvet Alley.gp3')\n",
    "va = gp.parse(os.path.join(gp_files, fp))"
   ]
  },
  {
   "cell_type": "markdown",
   "metadata": {},
   "source": [
    "## GuitarPro excursion"
   ]
  },
  {
   "cell_type": "code",
   "execution_count": 7,
   "metadata": {},
   "outputs": [],
   "source": [
    "# only take ones which might be useful for the project\n",
    "info = {\n",
    "    'album': va.album,\n",
    "    'artist': va.artist,\n",
    "    'title': va.title,\n",
    "    'tempo': va.tempo,\n",
    "    'key': va.key,  # enum: eg. key = 'CMajor', value = (0, 0)\n",
    "}"
   ]
  },
  {
   "cell_type": "code",
   "execution_count": 8,
   "metadata": {},
   "outputs": [
    {
     "name": "stdout",
     "output_type": "stream",
     "text": [
      "['_currentRepeatGroup', 'addMeasureHeader', 'album', 'artist', 'clipboard', 'copyright', 'hideTempo', 'instructions', 'key', 'lyrics', 'masterEffect', 'measureHeaders', 'music', 'newMeasure', 'notice', 'pageSetup', 'subtitle', 'tab', 'tempo', 'tempoName', 'title', 'tracks', 'version', 'versionTuple', 'words']\n"
     ]
    }
   ],
   "source": [
    "obj_attr(va)"
   ]
  },
  {
   "cell_type": "code",
   "execution_count": 9,
   "metadata": {},
   "outputs": [
    {
     "data": {
      "text/plain": [
       "('CMajor', (0, 0))"
      ]
     },
     "execution_count": 9,
     "metadata": {},
     "output_type": "execute_result"
    }
   ],
   "source": [
    "# what's in key signature?\n",
    "va.key.name, va.key.value"
   ]
  },
  {
   "cell_type": "code",
   "execution_count": 10,
   "metadata": {},
   "outputs": [
    {
     "data": {
      "text/plain": [
       "[MeasureHeader(number=1, start=960, hasDoubleBar=False, keySignature=<KeySignature.CMajor: (0, 0)>, timeSignature=TimeSignature(numerator=4, denominator=Duration(value=4, isDotted=False, isDoubleDotted=False, tuplet=Tuplet(enters=1, times=1)), beams=[2, 2, 2, 2]), tempo=Tempo(value=220), marker=None, isRepeatOpen=False, repeatAlternative=0, repeatClose=-1, tripletFeel=<TripletFeel.none: 0>, direction=None, fromDirection=None),\n",
       " MeasureHeader(number=2, start=4800, hasDoubleBar=False, keySignature=<KeySignature.CMajor: (0, 0)>, timeSignature=TimeSignature(numerator=4, denominator=Duration(value=4, isDotted=False, isDoubleDotted=False, tuplet=Tuplet(enters=1, times=1)), beams=[2, 2, 2, 2]), tempo=Tempo(value=220), marker=None, isRepeatOpen=False, repeatAlternative=0, repeatClose=-1, tripletFeel=<TripletFeel.none: 0>, direction=None, fromDirection=None),\n",
       " MeasureHeader(number=3, start=8640, hasDoubleBar=False, keySignature=<KeySignature.CMajor: (0, 0)>, timeSignature=TimeSignature(numerator=4, denominator=Duration(value=4, isDotted=False, isDoubleDotted=False, tuplet=Tuplet(enters=1, times=1)), beams=[2, 2, 2, 2]), tempo=Tempo(value=220), marker=None, isRepeatOpen=False, repeatAlternative=0, repeatClose=-1, tripletFeel=<TripletFeel.none: 0>, direction=None, fromDirection=None),\n",
       " MeasureHeader(number=4, start=12480, hasDoubleBar=False, keySignature=<KeySignature.CMajor: (0, 0)>, timeSignature=TimeSignature(numerator=4, denominator=Duration(value=4, isDotted=False, isDoubleDotted=False, tuplet=Tuplet(enters=1, times=1)), beams=[2, 2, 2, 2]), tempo=Tempo(value=220), marker=None, isRepeatOpen=False, repeatAlternative=0, repeatClose=-1, tripletFeel=<TripletFeel.none: 0>, direction=None, fromDirection=None),\n",
       " MeasureHeader(number=5, start=16320, hasDoubleBar=False, keySignature=<KeySignature.CMajor: (0, 0)>, timeSignature=TimeSignature(numerator=4, denominator=Duration(value=4, isDotted=False, isDoubleDotted=False, tuplet=Tuplet(enters=1, times=1)), beams=[2, 2, 2, 2]), tempo=Tempo(value=220), marker=None, isRepeatOpen=False, repeatAlternative=0, repeatClose=-1, tripletFeel=<TripletFeel.none: 0>, direction=None, fromDirection=None),\n",
       " MeasureHeader(number=6, start=20160, hasDoubleBar=False, keySignature=<KeySignature.CMajor: (0, 0)>, timeSignature=TimeSignature(numerator=4, denominator=Duration(value=4, isDotted=False, isDoubleDotted=False, tuplet=Tuplet(enters=1, times=1)), beams=[2, 2, 2, 2]), tempo=Tempo(value=220), marker=None, isRepeatOpen=False, repeatAlternative=0, repeatClose=-1, tripletFeel=<TripletFeel.none: 0>, direction=None, fromDirection=None),\n",
       " MeasureHeader(number=7, start=24000, hasDoubleBar=False, keySignature=<KeySignature.CMajor: (0, 0)>, timeSignature=TimeSignature(numerator=4, denominator=Duration(value=4, isDotted=False, isDoubleDotted=False, tuplet=Tuplet(enters=1, times=1)), beams=[2, 2, 2, 2]), tempo=Tempo(value=220), marker=None, isRepeatOpen=False, repeatAlternative=0, repeatClose=-1, tripletFeel=<TripletFeel.none: 0>, direction=None, fromDirection=None),\n",
       " MeasureHeader(number=8, start=27840, hasDoubleBar=False, keySignature=<KeySignature.CMajor: (0, 0)>, timeSignature=TimeSignature(numerator=4, denominator=Duration(value=4, isDotted=False, isDoubleDotted=False, tuplet=Tuplet(enters=1, times=1)), beams=[2, 2, 2, 2]), tempo=Tempo(value=220), marker=None, isRepeatOpen=False, repeatAlternative=0, repeatClose=-1, tripletFeel=<TripletFeel.none: 0>, direction=None, fromDirection=None),\n",
       " MeasureHeader(number=9, start=31680, hasDoubleBar=False, keySignature=<KeySignature.CMajor: (0, 0)>, timeSignature=TimeSignature(numerator=4, denominator=Duration(value=4, isDotted=False, isDoubleDotted=False, tuplet=Tuplet(enters=1, times=1)), beams=[2, 2, 2, 2]), tempo=Tempo(value=220), marker=None, isRepeatOpen=False, repeatAlternative=0, repeatClose=-1, tripletFeel=<TripletFeel.none: 0>, direction=None, fromDirection=None),\n",
       " MeasureHeader(number=10, start=35520, hasDoubleBar=False, keySignature=<KeySignature.CMajor: (0, 0)>, timeSignature=TimeSignature(numerator=4, denominator=Duration(value=4, isDotted=False, isDoubleDotted=False, tuplet=Tuplet(enters=1, times=1)), beams=[2, 2, 2, 2]), tempo=Tempo(value=220), marker=None, isRepeatOpen=False, repeatAlternative=0, repeatClose=-1, tripletFeel=<TripletFeel.none: 0>, direction=None, fromDirection=None),\n",
       " MeasureHeader(number=11, start=39360, hasDoubleBar=False, keySignature=<KeySignature.CMajor: (0, 0)>, timeSignature=TimeSignature(numerator=4, denominator=Duration(value=4, isDotted=False, isDoubleDotted=False, tuplet=Tuplet(enters=1, times=1)), beams=[2, 2, 2, 2]), tempo=Tempo(value=220), marker=None, isRepeatOpen=False, repeatAlternative=0, repeatClose=-1, tripletFeel=<TripletFeel.none: 0>, direction=None, fromDirection=None),\n",
       " MeasureHeader(number=12, start=43200, hasDoubleBar=False, keySignature=<KeySignature.CMajor: (0, 0)>, timeSignature=TimeSignature(numerator=4, denominator=Duration(value=4, isDotted=False, isDoubleDotted=False, tuplet=Tuplet(enters=1, times=1)), beams=[2, 2, 2, 2]), tempo=Tempo(value=220), marker=None, isRepeatOpen=False, repeatAlternative=0, repeatClose=-1, tripletFeel=<TripletFeel.none: 0>, direction=None, fromDirection=None),\n",
       " MeasureHeader(number=13, start=47040, hasDoubleBar=False, keySignature=<KeySignature.CMajor: (0, 0)>, timeSignature=TimeSignature(numerator=4, denominator=Duration(value=4, isDotted=False, isDoubleDotted=False, tuplet=Tuplet(enters=1, times=1)), beams=[2, 2, 2, 2]), tempo=Tempo(value=220), marker=None, isRepeatOpen=False, repeatAlternative=0, repeatClose=-1, tripletFeel=<TripletFeel.none: 0>, direction=None, fromDirection=None),\n",
       " MeasureHeader(number=14, start=50880, hasDoubleBar=False, keySignature=<KeySignature.CMajor: (0, 0)>, timeSignature=TimeSignature(numerator=4, denominator=Duration(value=4, isDotted=False, isDoubleDotted=False, tuplet=Tuplet(enters=1, times=1)), beams=[2, 2, 2, 2]), tempo=Tempo(value=220), marker=None, isRepeatOpen=False, repeatAlternative=0, repeatClose=-1, tripletFeel=<TripletFeel.none: 0>, direction=None, fromDirection=None),\n",
       " MeasureHeader(number=15, start=54720, hasDoubleBar=False, keySignature=<KeySignature.CMajor: (0, 0)>, timeSignature=TimeSignature(numerator=4, denominator=Duration(value=4, isDotted=False, isDoubleDotted=False, tuplet=Tuplet(enters=1, times=1)), beams=[2, 2, 2, 2]), tempo=Tempo(value=220), marker=None, isRepeatOpen=False, repeatAlternative=0, repeatClose=-1, tripletFeel=<TripletFeel.none: 0>, direction=None, fromDirection=None),\n",
       " MeasureHeader(number=16, start=58560, hasDoubleBar=False, keySignature=<KeySignature.CMajor: (0, 0)>, timeSignature=TimeSignature(numerator=4, denominator=Duration(value=4, isDotted=False, isDoubleDotted=False, tuplet=Tuplet(enters=1, times=1)), beams=[2, 2, 2, 2]), tempo=Tempo(value=220), marker=None, isRepeatOpen=False, repeatAlternative=0, repeatClose=-1, tripletFeel=<TripletFeel.none: 0>, direction=None, fromDirection=None),\n",
       " MeasureHeader(number=17, start=62400, hasDoubleBar=False, keySignature=<KeySignature.CMajor: (0, 0)>, timeSignature=TimeSignature(numerator=4, denominator=Duration(value=4, isDotted=False, isDoubleDotted=False, tuplet=Tuplet(enters=1, times=1)), beams=[2, 2, 2, 2]), tempo=Tempo(value=220), marker=None, isRepeatOpen=False, repeatAlternative=0, repeatClose=-1, tripletFeel=<TripletFeel.none: 0>, direction=None, fromDirection=None),\n",
       " MeasureHeader(number=18, start=66240, hasDoubleBar=False, keySignature=<KeySignature.CMajor: (0, 0)>, timeSignature=TimeSignature(numerator=4, denominator=Duration(value=4, isDotted=False, isDoubleDotted=False, tuplet=Tuplet(enters=1, times=1)), beams=[2, 2, 2, 2]), tempo=Tempo(value=220), marker=None, isRepeatOpen=False, repeatAlternative=0, repeatClose=-1, tripletFeel=<TripletFeel.none: 0>, direction=None, fromDirection=None),\n",
       " MeasureHeader(number=19, start=70080, hasDoubleBar=False, keySignature=<KeySignature.CMajor: (0, 0)>, timeSignature=TimeSignature(numerator=4, denominator=Duration(value=4, isDotted=False, isDoubleDotted=False, tuplet=Tuplet(enters=1, times=1)), beams=[2, 2, 2, 2]), tempo=Tempo(value=220), marker=None, isRepeatOpen=False, repeatAlternative=0, repeatClose=-1, tripletFeel=<TripletFeel.none: 0>, direction=None, fromDirection=None),\n",
       " MeasureHeader(number=20, start=73920, hasDoubleBar=False, keySignature=<KeySignature.CMajor: (0, 0)>, timeSignature=TimeSignature(numerator=4, denominator=Duration(value=4, isDotted=False, isDoubleDotted=False, tuplet=Tuplet(enters=1, times=1)), beams=[2, 2, 2, 2]), tempo=Tempo(value=220), marker=None, isRepeatOpen=False, repeatAlternative=0, repeatClose=-1, tripletFeel=<TripletFeel.none: 0>, direction=None, fromDirection=None),\n",
       " MeasureHeader(number=21, start=77760, hasDoubleBar=False, keySignature=<KeySignature.CMajor: (0, 0)>, timeSignature=TimeSignature(numerator=4, denominator=Duration(value=4, isDotted=False, isDoubleDotted=False, tuplet=Tuplet(enters=1, times=1)), beams=[2, 2, 2, 2]), tempo=Tempo(value=220), marker=None, isRepeatOpen=False, repeatAlternative=0, repeatClose=-1, tripletFeel=<TripletFeel.none: 0>, direction=None, fromDirection=None),\n",
       " MeasureHeader(number=22, start=81600, hasDoubleBar=False, keySignature=<KeySignature.CMajor: (0, 0)>, timeSignature=TimeSignature(numerator=4, denominator=Duration(value=4, isDotted=False, isDoubleDotted=False, tuplet=Tuplet(enters=1, times=1)), beams=[2, 2, 2, 2]), tempo=Tempo(value=220), marker=None, isRepeatOpen=False, repeatAlternative=0, repeatClose=-1, tripletFeel=<TripletFeel.none: 0>, direction=None, fromDirection=None),\n",
       " MeasureHeader(number=23, start=85440, hasDoubleBar=False, keySignature=<KeySignature.CMajor: (0, 0)>, timeSignature=TimeSignature(numerator=4, denominator=Duration(value=4, isDotted=False, isDoubleDotted=False, tuplet=Tuplet(enters=1, times=1)), beams=[2, 2, 2, 2]), tempo=Tempo(value=220), marker=None, isRepeatOpen=False, repeatAlternative=0, repeatClose=-1, tripletFeel=<TripletFeel.none: 0>, direction=None, fromDirection=None),\n",
       " MeasureHeader(number=24, start=89280, hasDoubleBar=False, keySignature=<KeySignature.CMajor: (0, 0)>, timeSignature=TimeSignature(numerator=4, denominator=Duration(value=4, isDotted=False, isDoubleDotted=False, tuplet=Tuplet(enters=1, times=1)), beams=[2, 2, 2, 2]), tempo=Tempo(value=220), marker=None, isRepeatOpen=False, repeatAlternative=0, repeatClose=-1, tripletFeel=<TripletFeel.none: 0>, direction=None, fromDirection=None),\n",
       " MeasureHeader(number=25, start=93120, hasDoubleBar=False, keySignature=<KeySignature.CMajor: (0, 0)>, timeSignature=TimeSignature(numerator=4, denominator=Duration(value=4, isDotted=False, isDoubleDotted=False, tuplet=Tuplet(enters=1, times=1)), beams=[2, 2, 2, 2]), tempo=Tempo(value=220), marker=None, isRepeatOpen=False, repeatAlternative=0, repeatClose=-1, tripletFeel=<TripletFeel.none: 0>, direction=None, fromDirection=None),\n",
       " MeasureHeader(number=26, start=96960, hasDoubleBar=False, keySignature=<KeySignature.CMajor: (0, 0)>, timeSignature=TimeSignature(numerator=4, denominator=Duration(value=4, isDotted=False, isDoubleDotted=False, tuplet=Tuplet(enters=1, times=1)), beams=[2, 2, 2, 2]), tempo=Tempo(value=220), marker=None, isRepeatOpen=False, repeatAlternative=0, repeatClose=-1, tripletFeel=<TripletFeel.none: 0>, direction=None, fromDirection=None),\n",
       " MeasureHeader(number=27, start=100800, hasDoubleBar=False, keySignature=<KeySignature.CMajor: (0, 0)>, timeSignature=TimeSignature(numerator=4, denominator=Duration(value=4, isDotted=False, isDoubleDotted=False, tuplet=Tuplet(enters=1, times=1)), beams=[2, 2, 2, 2]), tempo=Tempo(value=220), marker=None, isRepeatOpen=False, repeatAlternative=0, repeatClose=-1, tripletFeel=<TripletFeel.none: 0>, direction=None, fromDirection=None),\n",
       " MeasureHeader(number=28, start=104640, hasDoubleBar=False, keySignature=<KeySignature.CMajor: (0, 0)>, timeSignature=TimeSignature(numerator=4, denominator=Duration(value=4, isDotted=False, isDoubleDotted=False, tuplet=Tuplet(enters=1, times=1)), beams=[2, 2, 2, 2]), tempo=Tempo(value=220), marker=None, isRepeatOpen=False, repeatAlternative=0, repeatClose=-1, tripletFeel=<TripletFeel.none: 0>, direction=None, fromDirection=None),\n",
       " MeasureHeader(number=29, start=108480, hasDoubleBar=False, keySignature=<KeySignature.CMajor: (0, 0)>, timeSignature=TimeSignature(numerator=4, denominator=Duration(value=4, isDotted=False, isDoubleDotted=False, tuplet=Tuplet(enters=1, times=1)), beams=[2, 2, 2, 2]), tempo=Tempo(value=220), marker=None, isRepeatOpen=False, repeatAlternative=0, repeatClose=-1, tripletFeel=<TripletFeel.none: 0>, direction=None, fromDirection=None),\n",
       " MeasureHeader(number=30, start=112320, hasDoubleBar=False, keySignature=<KeySignature.CMajor: (0, 0)>, timeSignature=TimeSignature(numerator=4, denominator=Duration(value=4, isDotted=False, isDoubleDotted=False, tuplet=Tuplet(enters=1, times=1)), beams=[2, 2, 2, 2]), tempo=Tempo(value=220), marker=None, isRepeatOpen=False, repeatAlternative=0, repeatClose=-1, tripletFeel=<TripletFeel.none: 0>, direction=None, fromDirection=None),\n",
       " MeasureHeader(number=31, start=116160, hasDoubleBar=False, keySignature=<KeySignature.CMajor: (0, 0)>, timeSignature=TimeSignature(numerator=4, denominator=Duration(value=4, isDotted=False, isDoubleDotted=False, tuplet=Tuplet(enters=1, times=1)), beams=[2, 2, 2, 2]), tempo=Tempo(value=220), marker=None, isRepeatOpen=False, repeatAlternative=0, repeatClose=-1, tripletFeel=<TripletFeel.none: 0>, direction=None, fromDirection=None),\n",
       " MeasureHeader(number=32, start=120000, hasDoubleBar=False, keySignature=<KeySignature.CMajor: (0, 0)>, timeSignature=TimeSignature(numerator=4, denominator=Duration(value=4, isDotted=False, isDoubleDotted=False, tuplet=Tuplet(enters=1, times=1)), beams=[2, 2, 2, 2]), tempo=Tempo(value=220), marker=None, isRepeatOpen=False, repeatAlternative=0, repeatClose=-1, tripletFeel=<TripletFeel.none: 0>, direction=None, fromDirection=None),\n",
       " MeasureHeader(number=33, start=123840, hasDoubleBar=False, keySignature=<KeySignature.CMajor: (0, 0)>, timeSignature=TimeSignature(numerator=4, denominator=Duration(value=4, isDotted=False, isDoubleDotted=False, tuplet=Tuplet(enters=1, times=1)), beams=[2, 2, 2, 2]), tempo=Tempo(value=220), marker=None, isRepeatOpen=False, repeatAlternative=0, repeatClose=-1, tripletFeel=<TripletFeel.none: 0>, direction=None, fromDirection=None),\n",
       " MeasureHeader(number=34, start=127680, hasDoubleBar=False, keySignature=<KeySignature.CMajor: (0, 0)>, timeSignature=TimeSignature(numerator=4, denominator=Duration(value=4, isDotted=False, isDoubleDotted=False, tuplet=Tuplet(enters=1, times=1)), beams=[2, 2, 2, 2]), tempo=Tempo(value=220), marker=None, isRepeatOpen=False, repeatAlternative=0, repeatClose=-1, tripletFeel=<TripletFeel.none: 0>, direction=None, fromDirection=None),\n",
       " MeasureHeader(number=35, start=131520, hasDoubleBar=False, keySignature=<KeySignature.CMajor: (0, 0)>, timeSignature=TimeSignature(numerator=4, denominator=Duration(value=4, isDotted=False, isDoubleDotted=False, tuplet=Tuplet(enters=1, times=1)), beams=[2, 2, 2, 2]), tempo=Tempo(value=220), marker=None, isRepeatOpen=False, repeatAlternative=0, repeatClose=-1, tripletFeel=<TripletFeel.none: 0>, direction=None, fromDirection=None),\n",
       " MeasureHeader(number=36, start=135360, hasDoubleBar=False, keySignature=<KeySignature.CMajor: (0, 0)>, timeSignature=TimeSignature(numerator=4, denominator=Duration(value=4, isDotted=False, isDoubleDotted=False, tuplet=Tuplet(enters=1, times=1)), beams=[2, 2, 2, 2]), tempo=Tempo(value=220), marker=None, isRepeatOpen=False, repeatAlternative=0, repeatClose=-1, tripletFeel=<TripletFeel.none: 0>, direction=None, fromDirection=None),\n",
       " MeasureHeader(number=37, start=139200, hasDoubleBar=False, keySignature=<KeySignature.CMajor: (0, 0)>, timeSignature=TimeSignature(numerator=4, denominator=Duration(value=4, isDotted=False, isDoubleDotted=False, tuplet=Tuplet(enters=1, times=1)), beams=[2, 2, 2, 2]), tempo=Tempo(value=220), marker=None, isRepeatOpen=False, repeatAlternative=0, repeatClose=-1, tripletFeel=<TripletFeel.none: 0>, direction=None, fromDirection=None),\n",
       " MeasureHeader(number=38, start=143040, hasDoubleBar=False, keySignature=<KeySignature.CMajor: (0, 0)>, timeSignature=TimeSignature(numerator=4, denominator=Duration(value=4, isDotted=False, isDoubleDotted=False, tuplet=Tuplet(enters=1, times=1)), beams=[2, 2, 2, 2]), tempo=Tempo(value=220), marker=None, isRepeatOpen=False, repeatAlternative=0, repeatClose=-1, tripletFeel=<TripletFeel.none: 0>, direction=None, fromDirection=None),\n",
       " MeasureHeader(number=39, start=146880, hasDoubleBar=False, keySignature=<KeySignature.CMajor: (0, 0)>, timeSignature=TimeSignature(numerator=4, denominator=Duration(value=4, isDotted=False, isDoubleDotted=False, tuplet=Tuplet(enters=1, times=1)), beams=[2, 2, 2, 2]), tempo=Tempo(value=220), marker=None, isRepeatOpen=False, repeatAlternative=0, repeatClose=-1, tripletFeel=<TripletFeel.none: 0>, direction=None, fromDirection=None),\n",
       " MeasureHeader(number=40, start=150720, hasDoubleBar=False, keySignature=<KeySignature.CMajor: (0, 0)>, timeSignature=TimeSignature(numerator=4, denominator=Duration(value=4, isDotted=False, isDoubleDotted=False, tuplet=Tuplet(enters=1, times=1)), beams=[2, 2, 2, 2]), tempo=Tempo(value=220), marker=None, isRepeatOpen=False, repeatAlternative=0, repeatClose=-1, tripletFeel=<TripletFeel.none: 0>, direction=None, fromDirection=None),\n",
       " MeasureHeader(number=41, start=154560, hasDoubleBar=False, keySignature=<KeySignature.CMajor: (0, 0)>, timeSignature=TimeSignature(numerator=4, denominator=Duration(value=4, isDotted=False, isDoubleDotted=False, tuplet=Tuplet(enters=1, times=1)), beams=[2, 2, 2, 2]), tempo=Tempo(value=220), marker=None, isRepeatOpen=False, repeatAlternative=0, repeatClose=-1, tripletFeel=<TripletFeel.none: 0>, direction=None, fromDirection=None),\n",
       " MeasureHeader(number=42, start=158400, hasDoubleBar=False, keySignature=<KeySignature.CMajor: (0, 0)>, timeSignature=TimeSignature(numerator=4, denominator=Duration(value=4, isDotted=False, isDoubleDotted=False, tuplet=Tuplet(enters=1, times=1)), beams=[2, 2, 2, 2]), tempo=Tempo(value=220), marker=None, isRepeatOpen=False, repeatAlternative=0, repeatClose=-1, tripletFeel=<TripletFeel.none: 0>, direction=None, fromDirection=None),\n",
       " MeasureHeader(number=43, start=162240, hasDoubleBar=False, keySignature=<KeySignature.CMajor: (0, 0)>, timeSignature=TimeSignature(numerator=4, denominator=Duration(value=4, isDotted=False, isDoubleDotted=False, tuplet=Tuplet(enters=1, times=1)), beams=[2, 2, 2, 2]), tempo=Tempo(value=220), marker=None, isRepeatOpen=False, repeatAlternative=0, repeatClose=-1, tripletFeel=<TripletFeel.none: 0>, direction=None, fromDirection=None),\n",
       " MeasureHeader(number=44, start=166080, hasDoubleBar=False, keySignature=<KeySignature.CMajor: (0, 0)>, timeSignature=TimeSignature(numerator=4, denominator=Duration(value=4, isDotted=False, isDoubleDotted=False, tuplet=Tuplet(enters=1, times=1)), beams=[2, 2, 2, 2]), tempo=Tempo(value=220), marker=None, isRepeatOpen=False, repeatAlternative=0, repeatClose=-1, tripletFeel=<TripletFeel.none: 0>, direction=None, fromDirection=None),\n",
       " MeasureHeader(number=45, start=169920, hasDoubleBar=False, keySignature=<KeySignature.CMajor: (0, 0)>, timeSignature=TimeSignature(numerator=4, denominator=Duration(value=4, isDotted=False, isDoubleDotted=False, tuplet=Tuplet(enters=1, times=1)), beams=[2, 2, 2, 2]), tempo=Tempo(value=220), marker=None, isRepeatOpen=False, repeatAlternative=0, repeatClose=-1, tripletFeel=<TripletFeel.none: 0>, direction=None, fromDirection=None),\n",
       " MeasureHeader(number=46, start=173760, hasDoubleBar=False, keySignature=<KeySignature.CMajor: (0, 0)>, timeSignature=TimeSignature(numerator=4, denominator=Duration(value=4, isDotted=False, isDoubleDotted=False, tuplet=Tuplet(enters=1, times=1)), beams=[2, 2, 2, 2]), tempo=Tempo(value=220), marker=None, isRepeatOpen=False, repeatAlternative=0, repeatClose=-1, tripletFeel=<TripletFeel.none: 0>, direction=None, fromDirection=None),\n",
       " MeasureHeader(number=47, start=177600, hasDoubleBar=False, keySignature=<KeySignature.CMajor: (0, 0)>, timeSignature=TimeSignature(numerator=4, denominator=Duration(value=4, isDotted=False, isDoubleDotted=False, tuplet=Tuplet(enters=1, times=1)), beams=[2, 2, 2, 2]), tempo=Tempo(value=220), marker=None, isRepeatOpen=False, repeatAlternative=0, repeatClose=-1, tripletFeel=<TripletFeel.none: 0>, direction=None, fromDirection=None),\n",
       " MeasureHeader(number=48, start=181440, hasDoubleBar=False, keySignature=<KeySignature.CMajor: (0, 0)>, timeSignature=TimeSignature(numerator=4, denominator=Duration(value=4, isDotted=False, isDoubleDotted=False, tuplet=Tuplet(enters=1, times=1)), beams=[2, 2, 2, 2]), tempo=Tempo(value=220), marker=None, isRepeatOpen=False, repeatAlternative=0, repeatClose=-1, tripletFeel=<TripletFeel.none: 0>, direction=None, fromDirection=None),\n",
       " MeasureHeader(number=49, start=185280, hasDoubleBar=False, keySignature=<KeySignature.CMajor: (0, 0)>, timeSignature=TimeSignature(numerator=4, denominator=Duration(value=4, isDotted=False, isDoubleDotted=False, tuplet=Tuplet(enters=1, times=1)), beams=[2, 2, 2, 2]), tempo=Tempo(value=220), marker=None, isRepeatOpen=False, repeatAlternative=0, repeatClose=-1, tripletFeel=<TripletFeel.none: 0>, direction=None, fromDirection=None),\n",
       " MeasureHeader(number=50, start=189120, hasDoubleBar=False, keySignature=<KeySignature.CMajor: (0, 0)>, timeSignature=TimeSignature(numerator=4, denominator=Duration(value=4, isDotted=False, isDoubleDotted=False, tuplet=Tuplet(enters=1, times=1)), beams=[2, 2, 2, 2]), tempo=Tempo(value=220), marker=None, isRepeatOpen=False, repeatAlternative=0, repeatClose=-1, tripletFeel=<TripletFeel.none: 0>, direction=None, fromDirection=None),\n",
       " MeasureHeader(number=51, start=192960, hasDoubleBar=False, keySignature=<KeySignature.CMajor: (0, 0)>, timeSignature=TimeSignature(numerator=4, denominator=Duration(value=4, isDotted=False, isDoubleDotted=False, tuplet=Tuplet(enters=1, times=1)), beams=[2, 2, 2, 2]), tempo=Tempo(value=220), marker=None, isRepeatOpen=False, repeatAlternative=0, repeatClose=-1, tripletFeel=<TripletFeel.none: 0>, direction=None, fromDirection=None),\n",
       " MeasureHeader(number=52, start=196800, hasDoubleBar=False, keySignature=<KeySignature.CMajor: (0, 0)>, timeSignature=TimeSignature(numerator=4, denominator=Duration(value=4, isDotted=False, isDoubleDotted=False, tuplet=Tuplet(enters=1, times=1)), beams=[2, 2, 2, 2]), tempo=Tempo(value=220), marker=None, isRepeatOpen=False, repeatAlternative=0, repeatClose=-1, tripletFeel=<TripletFeel.none: 0>, direction=None, fromDirection=None),\n",
       " MeasureHeader(number=53, start=200640, hasDoubleBar=False, keySignature=<KeySignature.CMajor: (0, 0)>, timeSignature=TimeSignature(numerator=4, denominator=Duration(value=4, isDotted=False, isDoubleDotted=False, tuplet=Tuplet(enters=1, times=1)), beams=[2, 2, 2, 2]), tempo=Tempo(value=220), marker=None, isRepeatOpen=False, repeatAlternative=0, repeatClose=-1, tripletFeel=<TripletFeel.none: 0>, direction=None, fromDirection=None),\n",
       " MeasureHeader(number=54, start=204480, hasDoubleBar=False, keySignature=<KeySignature.CMajor: (0, 0)>, timeSignature=TimeSignature(numerator=4, denominator=Duration(value=4, isDotted=False, isDoubleDotted=False, tuplet=Tuplet(enters=1, times=1)), beams=[2, 2, 2, 2]), tempo=Tempo(value=220), marker=None, isRepeatOpen=False, repeatAlternative=0, repeatClose=-1, tripletFeel=<TripletFeel.none: 0>, direction=None, fromDirection=None),\n",
       " MeasureHeader(number=55, start=208320, hasDoubleBar=False, keySignature=<KeySignature.CMajor: (0, 0)>, timeSignature=TimeSignature(numerator=4, denominator=Duration(value=4, isDotted=False, isDoubleDotted=False, tuplet=Tuplet(enters=1, times=1)), beams=[2, 2, 2, 2]), tempo=Tempo(value=220), marker=None, isRepeatOpen=False, repeatAlternative=0, repeatClose=-1, tripletFeel=<TripletFeel.none: 0>, direction=None, fromDirection=None),\n",
       " MeasureHeader(number=56, start=212160, hasDoubleBar=False, keySignature=<KeySignature.CMajor: (0, 0)>, timeSignature=TimeSignature(numerator=4, denominator=Duration(value=4, isDotted=False, isDoubleDotted=False, tuplet=Tuplet(enters=1, times=1)), beams=[2, 2, 2, 2]), tempo=Tempo(value=220), marker=None, isRepeatOpen=False, repeatAlternative=0, repeatClose=-1, tripletFeel=<TripletFeel.none: 0>, direction=None, fromDirection=None),\n",
       " MeasureHeader(number=57, start=216000, hasDoubleBar=False, keySignature=<KeySignature.CMajor: (0, 0)>, timeSignature=TimeSignature(numerator=4, denominator=Duration(value=4, isDotted=False, isDoubleDotted=False, tuplet=Tuplet(enters=1, times=1)), beams=[2, 2, 2, 2]), tempo=Tempo(value=220), marker=None, isRepeatOpen=False, repeatAlternative=0, repeatClose=-1, tripletFeel=<TripletFeel.none: 0>, direction=None, fromDirection=None),\n",
       " MeasureHeader(number=58, start=219840, hasDoubleBar=False, keySignature=<KeySignature.CMajor: (0, 0)>, timeSignature=TimeSignature(numerator=4, denominator=Duration(value=4, isDotted=False, isDoubleDotted=False, tuplet=Tuplet(enters=1, times=1)), beams=[2, 2, 2, 2]), tempo=Tempo(value=220), marker=None, isRepeatOpen=False, repeatAlternative=0, repeatClose=-1, tripletFeel=<TripletFeel.none: 0>, direction=None, fromDirection=None),\n",
       " MeasureHeader(number=59, start=223680, hasDoubleBar=False, keySignature=<KeySignature.CMajor: (0, 0)>, timeSignature=TimeSignature(numerator=4, denominator=Duration(value=4, isDotted=False, isDoubleDotted=False, tuplet=Tuplet(enters=1, times=1)), beams=[2, 2, 2, 2]), tempo=Tempo(value=220), marker=None, isRepeatOpen=False, repeatAlternative=0, repeatClose=-1, tripletFeel=<TripletFeel.none: 0>, direction=None, fromDirection=None),\n",
       " MeasureHeader(number=60, start=227520, hasDoubleBar=False, keySignature=<KeySignature.CMajor: (0, 0)>, timeSignature=TimeSignature(numerator=4, denominator=Duration(value=4, isDotted=False, isDoubleDotted=False, tuplet=Tuplet(enters=1, times=1)), beams=[2, 2, 2, 2]), tempo=Tempo(value=220), marker=None, isRepeatOpen=False, repeatAlternative=0, repeatClose=-1, tripletFeel=<TripletFeel.none: 0>, direction=None, fromDirection=None),\n",
       " MeasureHeader(number=61, start=231360, hasDoubleBar=False, keySignature=<KeySignature.CMajor: (0, 0)>, timeSignature=TimeSignature(numerator=4, denominator=Duration(value=4, isDotted=False, isDoubleDotted=False, tuplet=Tuplet(enters=1, times=1)), beams=[2, 2, 2, 2]), tempo=Tempo(value=220), marker=None, isRepeatOpen=False, repeatAlternative=0, repeatClose=-1, tripletFeel=<TripletFeel.none: 0>, direction=None, fromDirection=None),\n",
       " MeasureHeader(number=62, start=235200, hasDoubleBar=False, keySignature=<KeySignature.CMajor: (0, 0)>, timeSignature=TimeSignature(numerator=4, denominator=Duration(value=4, isDotted=False, isDoubleDotted=False, tuplet=Tuplet(enters=1, times=1)), beams=[2, 2, 2, 2]), tempo=Tempo(value=220), marker=None, isRepeatOpen=False, repeatAlternative=0, repeatClose=-1, tripletFeel=<TripletFeel.none: 0>, direction=None, fromDirection=None),\n",
       " MeasureHeader(number=63, start=239040, hasDoubleBar=False, keySignature=<KeySignature.CMajor: (0, 0)>, timeSignature=TimeSignature(numerator=4, denominator=Duration(value=4, isDotted=False, isDoubleDotted=False, tuplet=Tuplet(enters=1, times=1)), beams=[2, 2, 2, 2]), tempo=Tempo(value=220), marker=None, isRepeatOpen=False, repeatAlternative=0, repeatClose=-1, tripletFeel=<TripletFeel.none: 0>, direction=None, fromDirection=None),\n",
       " MeasureHeader(number=64, start=242880, hasDoubleBar=False, keySignature=<KeySignature.CMajor: (0, 0)>, timeSignature=TimeSignature(numerator=4, denominator=Duration(value=4, isDotted=False, isDoubleDotted=False, tuplet=Tuplet(enters=1, times=1)), beams=[2, 2, 2, 2]), tempo=Tempo(value=220), marker=None, isRepeatOpen=False, repeatAlternative=0, repeatClose=-1, tripletFeel=<TripletFeel.none: 0>, direction=None, fromDirection=None),\n",
       " MeasureHeader(number=65, start=246720, hasDoubleBar=False, keySignature=<KeySignature.CMajor: (0, 0)>, timeSignature=TimeSignature(numerator=4, denominator=Duration(value=4, isDotted=False, isDoubleDotted=False, tuplet=Tuplet(enters=1, times=1)), beams=[2, 2, 2, 2]), tempo=Tempo(value=220), marker=None, isRepeatOpen=False, repeatAlternative=0, repeatClose=-1, tripletFeel=<TripletFeel.none: 0>, direction=None, fromDirection=None),\n",
       " MeasureHeader(number=66, start=250560, hasDoubleBar=False, keySignature=<KeySignature.CMajor: (0, 0)>, timeSignature=TimeSignature(numerator=4, denominator=Duration(value=4, isDotted=False, isDoubleDotted=False, tuplet=Tuplet(enters=1, times=1)), beams=[2, 2, 2, 2]), tempo=Tempo(value=220), marker=None, isRepeatOpen=False, repeatAlternative=0, repeatClose=-1, tripletFeel=<TripletFeel.none: 0>, direction=None, fromDirection=None),\n",
       " MeasureHeader(number=67, start=254400, hasDoubleBar=False, keySignature=<KeySignature.CMajor: (0, 0)>, timeSignature=TimeSignature(numerator=4, denominator=Duration(value=4, isDotted=False, isDoubleDotted=False, tuplet=Tuplet(enters=1, times=1)), beams=[2, 2, 2, 2]), tempo=Tempo(value=220), marker=None, isRepeatOpen=False, repeatAlternative=0, repeatClose=-1, tripletFeel=<TripletFeel.none: 0>, direction=None, fromDirection=None),\n",
       " MeasureHeader(number=68, start=258240, hasDoubleBar=False, keySignature=<KeySignature.CMajor: (0, 0)>, timeSignature=TimeSignature(numerator=4, denominator=Duration(value=4, isDotted=False, isDoubleDotted=False, tuplet=Tuplet(enters=1, times=1)), beams=[2, 2, 2, 2]), tempo=Tempo(value=220), marker=None, isRepeatOpen=False, repeatAlternative=0, repeatClose=-1, tripletFeel=<TripletFeel.none: 0>, direction=None, fromDirection=None),\n",
       " MeasureHeader(number=69, start=262080, hasDoubleBar=False, keySignature=<KeySignature.CMajor: (0, 0)>, timeSignature=TimeSignature(numerator=4, denominator=Duration(value=4, isDotted=False, isDoubleDotted=False, tuplet=Tuplet(enters=1, times=1)), beams=[2, 2, 2, 2]), tempo=Tempo(value=220), marker=None, isRepeatOpen=False, repeatAlternative=0, repeatClose=-1, tripletFeel=<TripletFeel.none: 0>, direction=None, fromDirection=None),\n",
       " MeasureHeader(number=70, start=265920, hasDoubleBar=False, keySignature=<KeySignature.CMajor: (0, 0)>, timeSignature=TimeSignature(numerator=4, denominator=Duration(value=4, isDotted=False, isDoubleDotted=False, tuplet=Tuplet(enters=1, times=1)), beams=[2, 2, 2, 2]), tempo=Tempo(value=220), marker=None, isRepeatOpen=False, repeatAlternative=0, repeatClose=-1, tripletFeel=<TripletFeel.none: 0>, direction=None, fromDirection=None),\n",
       " MeasureHeader(number=71, start=269760, hasDoubleBar=False, keySignature=<KeySignature.CMajor: (0, 0)>, timeSignature=TimeSignature(numerator=4, denominator=Duration(value=4, isDotted=False, isDoubleDotted=False, tuplet=Tuplet(enters=1, times=1)), beams=[2, 2, 2, 2]), tempo=Tempo(value=220), marker=None, isRepeatOpen=False, repeatAlternative=0, repeatClose=-1, tripletFeel=<TripletFeel.none: 0>, direction=None, fromDirection=None),\n",
       " MeasureHeader(number=72, start=273600, hasDoubleBar=False, keySignature=<KeySignature.CMajor: (0, 0)>, timeSignature=TimeSignature(numerator=4, denominator=Duration(value=4, isDotted=False, isDoubleDotted=False, tuplet=Tuplet(enters=1, times=1)), beams=[2, 2, 2, 2]), tempo=Tempo(value=220), marker=None, isRepeatOpen=False, repeatAlternative=0, repeatClose=-1, tripletFeel=<TripletFeel.none: 0>, direction=None, fromDirection=None),\n",
       " MeasureHeader(number=73, start=277440, hasDoubleBar=False, keySignature=<KeySignature.CMajor: (0, 0)>, timeSignature=TimeSignature(numerator=4, denominator=Duration(value=4, isDotted=False, isDoubleDotted=False, tuplet=Tuplet(enters=1, times=1)), beams=[2, 2, 2, 2]), tempo=Tempo(value=220), marker=None, isRepeatOpen=False, repeatAlternative=0, repeatClose=-1, tripletFeel=<TripletFeel.none: 0>, direction=None, fromDirection=None),\n",
       " MeasureHeader(number=74, start=281280, hasDoubleBar=False, keySignature=<KeySignature.CMajor: (0, 0)>, timeSignature=TimeSignature(numerator=4, denominator=Duration(value=4, isDotted=False, isDoubleDotted=False, tuplet=Tuplet(enters=1, times=1)), beams=[2, 2, 2, 2]), tempo=Tempo(value=220), marker=None, isRepeatOpen=False, repeatAlternative=0, repeatClose=-1, tripletFeel=<TripletFeel.none: 0>, direction=None, fromDirection=None),\n",
       " MeasureHeader(number=75, start=285120, hasDoubleBar=False, keySignature=<KeySignature.CMajor: (0, 0)>, timeSignature=TimeSignature(numerator=4, denominator=Duration(value=4, isDotted=False, isDoubleDotted=False, tuplet=Tuplet(enters=1, times=1)), beams=[2, 2, 2, 2]), tempo=Tempo(value=220), marker=None, isRepeatOpen=False, repeatAlternative=0, repeatClose=-1, tripletFeel=<TripletFeel.none: 0>, direction=None, fromDirection=None),\n",
       " MeasureHeader(number=76, start=288960, hasDoubleBar=False, keySignature=<KeySignature.CMajor: (0, 0)>, timeSignature=TimeSignature(numerator=4, denominator=Duration(value=4, isDotted=False, isDoubleDotted=False, tuplet=Tuplet(enters=1, times=1)), beams=[2, 2, 2, 2]), tempo=Tempo(value=220), marker=None, isRepeatOpen=False, repeatAlternative=0, repeatClose=-1, tripletFeel=<TripletFeel.none: 0>, direction=None, fromDirection=None),\n",
       " MeasureHeader(number=77, start=292800, hasDoubleBar=False, keySignature=<KeySignature.CMajor: (0, 0)>, timeSignature=TimeSignature(numerator=4, denominator=Duration(value=4, isDotted=False, isDoubleDotted=False, tuplet=Tuplet(enters=1, times=1)), beams=[2, 2, 2, 2]), tempo=Tempo(value=220), marker=None, isRepeatOpen=False, repeatAlternative=0, repeatClose=-1, tripletFeel=<TripletFeel.none: 0>, direction=None, fromDirection=None),\n",
       " MeasureHeader(number=78, start=296640, hasDoubleBar=False, keySignature=<KeySignature.CMajor: (0, 0)>, timeSignature=TimeSignature(numerator=4, denominator=Duration(value=4, isDotted=False, isDoubleDotted=False, tuplet=Tuplet(enters=1, times=1)), beams=[2, 2, 2, 2]), tempo=Tempo(value=220), marker=None, isRepeatOpen=False, repeatAlternative=0, repeatClose=-1, tripletFeel=<TripletFeel.none: 0>, direction=None, fromDirection=None),\n",
       " MeasureHeader(number=79, start=300480, hasDoubleBar=False, keySignature=<KeySignature.CMajor: (0, 0)>, timeSignature=TimeSignature(numerator=4, denominator=Duration(value=4, isDotted=False, isDoubleDotted=False, tuplet=Tuplet(enters=1, times=1)), beams=[2, 2, 2, 2]), tempo=Tempo(value=220), marker=None, isRepeatOpen=False, repeatAlternative=0, repeatClose=-1, tripletFeel=<TripletFeel.none: 0>, direction=None, fromDirection=None),\n",
       " MeasureHeader(number=80, start=304320, hasDoubleBar=False, keySignature=<KeySignature.CMajor: (0, 0)>, timeSignature=TimeSignature(numerator=4, denominator=Duration(value=4, isDotted=False, isDoubleDotted=False, tuplet=Tuplet(enters=1, times=1)), beams=[2, 2, 2, 2]), tempo=Tempo(value=220), marker=None, isRepeatOpen=False, repeatAlternative=0, repeatClose=-1, tripletFeel=<TripletFeel.none: 0>, direction=None, fromDirection=None),\n",
       " MeasureHeader(number=81, start=308160, hasDoubleBar=False, keySignature=<KeySignature.CMajor: (0, 0)>, timeSignature=TimeSignature(numerator=4, denominator=Duration(value=4, isDotted=False, isDoubleDotted=False, tuplet=Tuplet(enters=1, times=1)), beams=[2, 2, 2, 2]), tempo=Tempo(value=220), marker=None, isRepeatOpen=False, repeatAlternative=0, repeatClose=-1, tripletFeel=<TripletFeel.none: 0>, direction=None, fromDirection=None),\n",
       " MeasureHeader(number=82, start=312000, hasDoubleBar=False, keySignature=<KeySignature.CMajor: (0, 0)>, timeSignature=TimeSignature(numerator=4, denominator=Duration(value=4, isDotted=False, isDoubleDotted=False, tuplet=Tuplet(enters=1, times=1)), beams=[2, 2, 2, 2]), tempo=Tempo(value=220), marker=None, isRepeatOpen=False, repeatAlternative=0, repeatClose=-1, tripletFeel=<TripletFeel.none: 0>, direction=None, fromDirection=None),\n",
       " MeasureHeader(number=83, start=315840, hasDoubleBar=False, keySignature=<KeySignature.CMajor: (0, 0)>, timeSignature=TimeSignature(numerator=4, denominator=Duration(value=4, isDotted=False, isDoubleDotted=False, tuplet=Tuplet(enters=1, times=1)), beams=[2, 2, 2, 2]), tempo=Tempo(value=220), marker=None, isRepeatOpen=False, repeatAlternative=0, repeatClose=-1, tripletFeel=<TripletFeel.none: 0>, direction=None, fromDirection=None),\n",
       " MeasureHeader(number=84, start=319680, hasDoubleBar=False, keySignature=<KeySignature.CMajor: (0, 0)>, timeSignature=TimeSignature(numerator=4, denominator=Duration(value=4, isDotted=False, isDoubleDotted=False, tuplet=Tuplet(enters=1, times=1)), beams=[2, 2, 2, 2]), tempo=Tempo(value=220), marker=None, isRepeatOpen=False, repeatAlternative=0, repeatClose=-1, tripletFeel=<TripletFeel.none: 0>, direction=None, fromDirection=None),\n",
       " MeasureHeader(number=85, start=323520, hasDoubleBar=False, keySignature=<KeySignature.CMajor: (0, 0)>, timeSignature=TimeSignature(numerator=4, denominator=Duration(value=4, isDotted=False, isDoubleDotted=False, tuplet=Tuplet(enters=1, times=1)), beams=[2, 2, 2, 2]), tempo=Tempo(value=220), marker=None, isRepeatOpen=False, repeatAlternative=0, repeatClose=-1, tripletFeel=<TripletFeel.none: 0>, direction=None, fromDirection=None),\n",
       " MeasureHeader(number=86, start=327360, hasDoubleBar=False, keySignature=<KeySignature.CMajor: (0, 0)>, timeSignature=TimeSignature(numerator=4, denominator=Duration(value=4, isDotted=False, isDoubleDotted=False, tuplet=Tuplet(enters=1, times=1)), beams=[2, 2, 2, 2]), tempo=Tempo(value=220), marker=None, isRepeatOpen=False, repeatAlternative=0, repeatClose=-1, tripletFeel=<TripletFeel.none: 0>, direction=None, fromDirection=None),\n",
       " MeasureHeader(number=87, start=331200, hasDoubleBar=False, keySignature=<KeySignature.CMajor: (0, 0)>, timeSignature=TimeSignature(numerator=4, denominator=Duration(value=4, isDotted=False, isDoubleDotted=False, tuplet=Tuplet(enters=1, times=1)), beams=[2, 2, 2, 2]), tempo=Tempo(value=220), marker=None, isRepeatOpen=False, repeatAlternative=0, repeatClose=-1, tripletFeel=<TripletFeel.none: 0>, direction=None, fromDirection=None),\n",
       " MeasureHeader(number=88, start=335040, hasDoubleBar=False, keySignature=<KeySignature.CMajor: (0, 0)>, timeSignature=TimeSignature(numerator=4, denominator=Duration(value=4, isDotted=False, isDoubleDotted=False, tuplet=Tuplet(enters=1, times=1)), beams=[2, 2, 2, 2]), tempo=Tempo(value=220), marker=None, isRepeatOpen=False, repeatAlternative=0, repeatClose=-1, tripletFeel=<TripletFeel.none: 0>, direction=None, fromDirection=None),\n",
       " MeasureHeader(number=89, start=338880, hasDoubleBar=False, keySignature=<KeySignature.CMajor: (0, 0)>, timeSignature=TimeSignature(numerator=4, denominator=Duration(value=4, isDotted=False, isDoubleDotted=False, tuplet=Tuplet(enters=1, times=1)), beams=[2, 2, 2, 2]), tempo=Tempo(value=220), marker=None, isRepeatOpen=False, repeatAlternative=0, repeatClose=-1, tripletFeel=<TripletFeel.none: 0>, direction=None, fromDirection=None),\n",
       " MeasureHeader(number=90, start=342720, hasDoubleBar=False, keySignature=<KeySignature.CMajor: (0, 0)>, timeSignature=TimeSignature(numerator=4, denominator=Duration(value=4, isDotted=False, isDoubleDotted=False, tuplet=Tuplet(enters=1, times=1)), beams=[2, 2, 2, 2]), tempo=Tempo(value=220), marker=None, isRepeatOpen=False, repeatAlternative=0, repeatClose=-1, tripletFeel=<TripletFeel.none: 0>, direction=None, fromDirection=None),\n",
       " MeasureHeader(number=91, start=346560, hasDoubleBar=False, keySignature=<KeySignature.CMajor: (0, 0)>, timeSignature=TimeSignature(numerator=4, denominator=Duration(value=4, isDotted=False, isDoubleDotted=False, tuplet=Tuplet(enters=1, times=1)), beams=[2, 2, 2, 2]), tempo=Tempo(value=220), marker=None, isRepeatOpen=False, repeatAlternative=0, repeatClose=-1, tripletFeel=<TripletFeel.none: 0>, direction=None, fromDirection=None),\n",
       " MeasureHeader(number=92, start=350400, hasDoubleBar=False, keySignature=<KeySignature.CMajor: (0, 0)>, timeSignature=TimeSignature(numerator=4, denominator=Duration(value=4, isDotted=False, isDoubleDotted=False, tuplet=Tuplet(enters=1, times=1)), beams=[2, 2, 2, 2]), tempo=Tempo(value=220), marker=None, isRepeatOpen=False, repeatAlternative=0, repeatClose=-1, tripletFeel=<TripletFeel.none: 0>, direction=None, fromDirection=None),\n",
       " MeasureHeader(number=93, start=354240, hasDoubleBar=False, keySignature=<KeySignature.CMajor: (0, 0)>, timeSignature=TimeSignature(numerator=4, denominator=Duration(value=4, isDotted=False, isDoubleDotted=False, tuplet=Tuplet(enters=1, times=1)), beams=[2, 2, 2, 2]), tempo=Tempo(value=220), marker=None, isRepeatOpen=False, repeatAlternative=0, repeatClose=-1, tripletFeel=<TripletFeel.none: 0>, direction=None, fromDirection=None),\n",
       " MeasureHeader(number=94, start=358080, hasDoubleBar=False, keySignature=<KeySignature.CMajor: (0, 0)>, timeSignature=TimeSignature(numerator=4, denominator=Duration(value=4, isDotted=False, isDoubleDotted=False, tuplet=Tuplet(enters=1, times=1)), beams=[2, 2, 2, 2]), tempo=Tempo(value=220), marker=None, isRepeatOpen=False, repeatAlternative=0, repeatClose=-1, tripletFeel=<TripletFeel.none: 0>, direction=None, fromDirection=None),\n",
       " MeasureHeader(number=95, start=361920, hasDoubleBar=False, keySignature=<KeySignature.CMajor: (0, 0)>, timeSignature=TimeSignature(numerator=4, denominator=Duration(value=4, isDotted=False, isDoubleDotted=False, tuplet=Tuplet(enters=1, times=1)), beams=[2, 2, 2, 2]), tempo=Tempo(value=220), marker=None, isRepeatOpen=False, repeatAlternative=0, repeatClose=-1, tripletFeel=<TripletFeel.none: 0>, direction=None, fromDirection=None),\n",
       " MeasureHeader(number=96, start=365760, hasDoubleBar=False, keySignature=<KeySignature.CMajor: (0, 0)>, timeSignature=TimeSignature(numerator=4, denominator=Duration(value=4, isDotted=False, isDoubleDotted=False, tuplet=Tuplet(enters=1, times=1)), beams=[2, 2, 2, 2]), tempo=Tempo(value=220), marker=None, isRepeatOpen=False, repeatAlternative=0, repeatClose=-1, tripletFeel=<TripletFeel.none: 0>, direction=None, fromDirection=None),\n",
       " MeasureHeader(number=97, start=369600, hasDoubleBar=False, keySignature=<KeySignature.CMajor: (0, 0)>, timeSignature=TimeSignature(numerator=4, denominator=Duration(value=4, isDotted=False, isDoubleDotted=False, tuplet=Tuplet(enters=1, times=1)), beams=[2, 2, 2, 2]), tempo=Tempo(value=220), marker=None, isRepeatOpen=False, repeatAlternative=0, repeatClose=-1, tripletFeel=<TripletFeel.none: 0>, direction=None, fromDirection=None),\n",
       " MeasureHeader(number=98, start=373440, hasDoubleBar=False, keySignature=<KeySignature.CMajor: (0, 0)>, timeSignature=TimeSignature(numerator=4, denominator=Duration(value=4, isDotted=False, isDoubleDotted=False, tuplet=Tuplet(enters=1, times=1)), beams=[2, 2, 2, 2]), tempo=Tempo(value=220), marker=None, isRepeatOpen=False, repeatAlternative=0, repeatClose=-1, tripletFeel=<TripletFeel.none: 0>, direction=None, fromDirection=None),\n",
       " MeasureHeader(number=99, start=377280, hasDoubleBar=False, keySignature=<KeySignature.CMajor: (0, 0)>, timeSignature=TimeSignature(numerator=4, denominator=Duration(value=4, isDotted=False, isDoubleDotted=False, tuplet=Tuplet(enters=1, times=1)), beams=[2, 2, 2, 2]), tempo=Tempo(value=220), marker=None, isRepeatOpen=False, repeatAlternative=0, repeatClose=-1, tripletFeel=<TripletFeel.none: 0>, direction=None, fromDirection=None),\n",
       " MeasureHeader(number=100, start=381120, hasDoubleBar=False, keySignature=<KeySignature.CMajor: (0, 0)>, timeSignature=TimeSignature(numerator=4, denominator=Duration(value=4, isDotted=False, isDoubleDotted=False, tuplet=Tuplet(enters=1, times=1)), beams=[2, 2, 2, 2]), tempo=Tempo(value=220), marker=None, isRepeatOpen=False, repeatAlternative=0, repeatClose=-1, tripletFeel=<TripletFeel.none: 0>, direction=None, fromDirection=None),\n",
       " MeasureHeader(number=101, start=384960, hasDoubleBar=False, keySignature=<KeySignature.CMajor: (0, 0)>, timeSignature=TimeSignature(numerator=4, denominator=Duration(value=4, isDotted=False, isDoubleDotted=False, tuplet=Tuplet(enters=1, times=1)), beams=[2, 2, 2, 2]), tempo=Tempo(value=220), marker=None, isRepeatOpen=False, repeatAlternative=0, repeatClose=-1, tripletFeel=<TripletFeel.none: 0>, direction=None, fromDirection=None),\n",
       " MeasureHeader(number=102, start=388800, hasDoubleBar=False, keySignature=<KeySignature.CMajor: (0, 0)>, timeSignature=TimeSignature(numerator=4, denominator=Duration(value=4, isDotted=False, isDoubleDotted=False, tuplet=Tuplet(enters=1, times=1)), beams=[2, 2, 2, 2]), tempo=Tempo(value=220), marker=None, isRepeatOpen=False, repeatAlternative=0, repeatClose=-1, tripletFeel=<TripletFeel.none: 0>, direction=None, fromDirection=None),\n",
       " MeasureHeader(number=103, start=392640, hasDoubleBar=False, keySignature=<KeySignature.CMajor: (0, 0)>, timeSignature=TimeSignature(numerator=4, denominator=Duration(value=4, isDotted=False, isDoubleDotted=False, tuplet=Tuplet(enters=1, times=1)), beams=[2, 2, 2, 2]), tempo=Tempo(value=220), marker=None, isRepeatOpen=False, repeatAlternative=0, repeatClose=-1, tripletFeel=<TripletFeel.none: 0>, direction=None, fromDirection=None),\n",
       " MeasureHeader(number=104, start=396480, hasDoubleBar=False, keySignature=<KeySignature.CMajor: (0, 0)>, timeSignature=TimeSignature(numerator=4, denominator=Duration(value=4, isDotted=False, isDoubleDotted=False, tuplet=Tuplet(enters=1, times=1)), beams=[2, 2, 2, 2]), tempo=Tempo(value=220), marker=None, isRepeatOpen=False, repeatAlternative=0, repeatClose=-1, tripletFeel=<TripletFeel.none: 0>, direction=None, fromDirection=None),\n",
       " MeasureHeader(number=105, start=400320, hasDoubleBar=False, keySignature=<KeySignature.CMajor: (0, 0)>, timeSignature=TimeSignature(numerator=4, denominator=Duration(value=4, isDotted=False, isDoubleDotted=False, tuplet=Tuplet(enters=1, times=1)), beams=[2, 2, 2, 2]), tempo=Tempo(value=220), marker=None, isRepeatOpen=False, repeatAlternative=0, repeatClose=-1, tripletFeel=<TripletFeel.none: 0>, direction=None, fromDirection=None),\n",
       " MeasureHeader(number=106, start=404160, hasDoubleBar=False, keySignature=<KeySignature.CMajor: (0, 0)>, timeSignature=TimeSignature(numerator=4, denominator=Duration(value=4, isDotted=False, isDoubleDotted=False, tuplet=Tuplet(enters=1, times=1)), beams=[2, 2, 2, 2]), tempo=Tempo(value=180), marker=None, isRepeatOpen=False, repeatAlternative=0, repeatClose=-1, tripletFeel=<TripletFeel.none: 0>, direction=None, fromDirection=None),\n",
       " MeasureHeader(number=107, start=408000, hasDoubleBar=False, keySignature=<KeySignature.CMajor: (0, 0)>, timeSignature=TimeSignature(numerator=4, denominator=Duration(value=4, isDotted=False, isDoubleDotted=False, tuplet=Tuplet(enters=1, times=1)), beams=[2, 2, 2, 2]), tempo=Tempo(value=180), marker=None, isRepeatOpen=False, repeatAlternative=0, repeatClose=-1, tripletFeel=<TripletFeel.none: 0>, direction=None, fromDirection=None),\n",
       " MeasureHeader(number=108, start=411840, hasDoubleBar=False, keySignature=<KeySignature.CMajor: (0, 0)>, timeSignature=TimeSignature(numerator=4, denominator=Duration(value=4, isDotted=False, isDoubleDotted=False, tuplet=Tuplet(enters=1, times=1)), beams=[2, 2, 2, 2]), tempo=Tempo(value=180), marker=None, isRepeatOpen=False, repeatAlternative=0, repeatClose=-1, tripletFeel=<TripletFeel.none: 0>, direction=None, fromDirection=None),\n",
       " MeasureHeader(number=109, start=415680, hasDoubleBar=False, keySignature=<KeySignature.CMajor: (0, 0)>, timeSignature=TimeSignature(numerator=4, denominator=Duration(value=4, isDotted=False, isDoubleDotted=False, tuplet=Tuplet(enters=1, times=1)), beams=[2, 2, 2, 2]), tempo=Tempo(value=180), marker=None, isRepeatOpen=False, repeatAlternative=0, repeatClose=-1, tripletFeel=<TripletFeel.none: 0>, direction=None, fromDirection=None),\n",
       " MeasureHeader(number=110, start=419520, hasDoubleBar=False, keySignature=<KeySignature.CMajor: (0, 0)>, timeSignature=TimeSignature(numerator=4, denominator=Duration(value=4, isDotted=False, isDoubleDotted=False, tuplet=Tuplet(enters=1, times=1)), beams=[2, 2, 2, 2]), tempo=Tempo(value=180), marker=None, isRepeatOpen=False, repeatAlternative=0, repeatClose=-1, tripletFeel=<TripletFeel.none: 0>, direction=None, fromDirection=None),\n",
       " MeasureHeader(number=111, start=423360, hasDoubleBar=False, keySignature=<KeySignature.CMajor: (0, 0)>, timeSignature=TimeSignature(numerator=4, denominator=Duration(value=4, isDotted=False, isDoubleDotted=False, tuplet=Tuplet(enters=1, times=1)), beams=[2, 2, 2, 2]), tempo=Tempo(value=180), marker=None, isRepeatOpen=False, repeatAlternative=0, repeatClose=-1, tripletFeel=<TripletFeel.none: 0>, direction=None, fromDirection=None),\n",
       " MeasureHeader(number=112, start=427200, hasDoubleBar=False, keySignature=<KeySignature.CMajor: (0, 0)>, timeSignature=TimeSignature(numerator=4, denominator=Duration(value=4, isDotted=False, isDoubleDotted=False, tuplet=Tuplet(enters=1, times=1)), beams=[2, 2, 2, 2]), tempo=Tempo(value=180), marker=None, isRepeatOpen=False, repeatAlternative=0, repeatClose=-1, tripletFeel=<TripletFeel.none: 0>, direction=None, fromDirection=None),\n",
       " MeasureHeader(number=113, start=431040, hasDoubleBar=False, keySignature=<KeySignature.CMajor: (0, 0)>, timeSignature=TimeSignature(numerator=4, denominator=Duration(value=4, isDotted=False, isDoubleDotted=False, tuplet=Tuplet(enters=1, times=1)), beams=[2, 2, 2, 2]), tempo=Tempo(value=180), marker=None, isRepeatOpen=False, repeatAlternative=0, repeatClose=-1, tripletFeel=<TripletFeel.none: 0>, direction=None, fromDirection=None),\n",
       " MeasureHeader(number=114, start=434880, hasDoubleBar=False, keySignature=<KeySignature.CMajor: (0, 0)>, timeSignature=TimeSignature(numerator=4, denominator=Duration(value=4, isDotted=False, isDoubleDotted=False, tuplet=Tuplet(enters=1, times=1)), beams=[2, 2, 2, 2]), tempo=Tempo(value=180), marker=None, isRepeatOpen=False, repeatAlternative=0, repeatClose=-1, tripletFeel=<TripletFeel.none: 0>, direction=None, fromDirection=None),\n",
       " MeasureHeader(number=115, start=438720, hasDoubleBar=False, keySignature=<KeySignature.CMajor: (0, 0)>, timeSignature=TimeSignature(numerator=4, denominator=Duration(value=4, isDotted=False, isDoubleDotted=False, tuplet=Tuplet(enters=1, times=1)), beams=[2, 2, 2, 2]), tempo=Tempo(value=180), marker=None, isRepeatOpen=False, repeatAlternative=0, repeatClose=-1, tripletFeel=<TripletFeel.none: 0>, direction=None, fromDirection=None),\n",
       " MeasureHeader(number=116, start=442560, hasDoubleBar=False, keySignature=<KeySignature.CMajor: (0, 0)>, timeSignature=TimeSignature(numerator=4, denominator=Duration(value=4, isDotted=False, isDoubleDotted=False, tuplet=Tuplet(enters=1, times=1)), beams=[2, 2, 2, 2]), tempo=Tempo(value=180), marker=None, isRepeatOpen=False, repeatAlternative=0, repeatClose=-1, tripletFeel=<TripletFeel.none: 0>, direction=None, fromDirection=None),\n",
       " MeasureHeader(number=117, start=446400, hasDoubleBar=False, keySignature=<KeySignature.CMajor: (0, 0)>, timeSignature=TimeSignature(numerator=4, denominator=Duration(value=4, isDotted=False, isDoubleDotted=False, tuplet=Tuplet(enters=1, times=1)), beams=[2, 2, 2, 2]), tempo=Tempo(value=180), marker=None, isRepeatOpen=False, repeatAlternative=0, repeatClose=-1, tripletFeel=<TripletFeel.none: 0>, direction=None, fromDirection=None),\n",
       " MeasureHeader(number=118, start=450240, hasDoubleBar=False, keySignature=<KeySignature.CMajor: (0, 0)>, timeSignature=TimeSignature(numerator=4, denominator=Duration(value=4, isDotted=False, isDoubleDotted=False, tuplet=Tuplet(enters=1, times=1)), beams=[2, 2, 2, 2]), tempo=Tempo(value=180), marker=None, isRepeatOpen=False, repeatAlternative=0, repeatClose=-1, tripletFeel=<TripletFeel.none: 0>, direction=None, fromDirection=None),\n",
       " MeasureHeader(number=119, start=454080, hasDoubleBar=False, keySignature=<KeySignature.CMajor: (0, 0)>, timeSignature=TimeSignature(numerator=4, denominator=Duration(value=4, isDotted=False, isDoubleDotted=False, tuplet=Tuplet(enters=1, times=1)), beams=[2, 2, 2, 2]), tempo=Tempo(value=180), marker=None, isRepeatOpen=False, repeatAlternative=0, repeatClose=-1, tripletFeel=<TripletFeel.none: 0>, direction=None, fromDirection=None),\n",
       " MeasureHeader(number=120, start=457920, hasDoubleBar=False, keySignature=<KeySignature.CMajor: (0, 0)>, timeSignature=TimeSignature(numerator=4, denominator=Duration(value=4, isDotted=False, isDoubleDotted=False, tuplet=Tuplet(enters=1, times=1)), beams=[2, 2, 2, 2]), tempo=Tempo(value=180), marker=None, isRepeatOpen=False, repeatAlternative=0, repeatClose=-1, tripletFeel=<TripletFeel.none: 0>, direction=None, fromDirection=None),\n",
       " MeasureHeader(number=121, start=461760, hasDoubleBar=False, keySignature=<KeySignature.CMajor: (0, 0)>, timeSignature=TimeSignature(numerator=4, denominator=Duration(value=4, isDotted=False, isDoubleDotted=False, tuplet=Tuplet(enters=1, times=1)), beams=[2, 2, 2, 2]), tempo=Tempo(value=180), marker=None, isRepeatOpen=False, repeatAlternative=0, repeatClose=-1, tripletFeel=<TripletFeel.none: 0>, direction=None, fromDirection=None),\n",
       " MeasureHeader(number=122, start=465600, hasDoubleBar=False, keySignature=<KeySignature.CMajor: (0, 0)>, timeSignature=TimeSignature(numerator=4, denominator=Duration(value=4, isDotted=False, isDoubleDotted=False, tuplet=Tuplet(enters=1, times=1)), beams=[2, 2, 2, 2]), tempo=Tempo(value=180), marker=None, isRepeatOpen=False, repeatAlternative=0, repeatClose=-1, tripletFeel=<TripletFeel.none: 0>, direction=None, fromDirection=None),\n",
       " MeasureHeader(number=123, start=469440, hasDoubleBar=False, keySignature=<KeySignature.CMajor: (0, 0)>, timeSignature=TimeSignature(numerator=4, denominator=Duration(value=4, isDotted=False, isDoubleDotted=False, tuplet=Tuplet(enters=1, times=1)), beams=[2, 2, 2, 2]), tempo=Tempo(value=180), marker=None, isRepeatOpen=False, repeatAlternative=0, repeatClose=-1, tripletFeel=<TripletFeel.none: 0>, direction=None, fromDirection=None),\n",
       " MeasureHeader(number=124, start=473280, hasDoubleBar=False, keySignature=<KeySignature.CMajor: (0, 0)>, timeSignature=TimeSignature(numerator=4, denominator=Duration(value=4, isDotted=False, isDoubleDotted=False, tuplet=Tuplet(enters=1, times=1)), beams=[2, 2, 2, 2]), tempo=Tempo(value=180), marker=None, isRepeatOpen=False, repeatAlternative=0, repeatClose=-1, tripletFeel=<TripletFeel.none: 0>, direction=None, fromDirection=None),\n",
       " MeasureHeader(number=125, start=477120, hasDoubleBar=False, keySignature=<KeySignature.CMajor: (0, 0)>, timeSignature=TimeSignature(numerator=4, denominator=Duration(value=4, isDotted=False, isDoubleDotted=False, tuplet=Tuplet(enters=1, times=1)), beams=[2, 2, 2, 2]), tempo=Tempo(value=180), marker=None, isRepeatOpen=False, repeatAlternative=0, repeatClose=-1, tripletFeel=<TripletFeel.none: 0>, direction=None, fromDirection=None),\n",
       " MeasureHeader(number=126, start=480960, hasDoubleBar=False, keySignature=<KeySignature.CMajor: (0, 0)>, timeSignature=TimeSignature(numerator=4, denominator=Duration(value=4, isDotted=False, isDoubleDotted=False, tuplet=Tuplet(enters=1, times=1)), beams=[2, 2, 2, 2]), tempo=Tempo(value=180), marker=None, isRepeatOpen=False, repeatAlternative=0, repeatClose=-1, tripletFeel=<TripletFeel.none: 0>, direction=None, fromDirection=None),\n",
       " MeasureHeader(number=127, start=484800, hasDoubleBar=False, keySignature=<KeySignature.CMajor: (0, 0)>, timeSignature=TimeSignature(numerator=4, denominator=Duration(value=4, isDotted=False, isDoubleDotted=False, tuplet=Tuplet(enters=1, times=1)), beams=[2, 2, 2, 2]), tempo=Tempo(value=180), marker=None, isRepeatOpen=False, repeatAlternative=0, repeatClose=-1, tripletFeel=<TripletFeel.none: 0>, direction=None, fromDirection=None),\n",
       " MeasureHeader(number=128, start=488640, hasDoubleBar=False, keySignature=<KeySignature.CMajor: (0, 0)>, timeSignature=TimeSignature(numerator=4, denominator=Duration(value=4, isDotted=False, isDoubleDotted=False, tuplet=Tuplet(enters=1, times=1)), beams=[2, 2, 2, 2]), tempo=Tempo(value=180), marker=None, isRepeatOpen=False, repeatAlternative=0, repeatClose=-1, tripletFeel=<TripletFeel.none: 0>, direction=None, fromDirection=None),\n",
       " MeasureHeader(number=129, start=492480, hasDoubleBar=False, keySignature=<KeySignature.CMajor: (0, 0)>, timeSignature=TimeSignature(numerator=4, denominator=Duration(value=4, isDotted=False, isDoubleDotted=False, tuplet=Tuplet(enters=1, times=1)), beams=[2, 2, 2, 2]), tempo=Tempo(value=180), marker=None, isRepeatOpen=False, repeatAlternative=0, repeatClose=-1, tripletFeel=<TripletFeel.none: 0>, direction=None, fromDirection=None),\n",
       " MeasureHeader(number=130, start=496320, hasDoubleBar=False, keySignature=<KeySignature.CMajor: (0, 0)>, timeSignature=TimeSignature(numerator=4, denominator=Duration(value=4, isDotted=False, isDoubleDotted=False, tuplet=Tuplet(enters=1, times=1)), beams=[2, 2, 2, 2]), tempo=Tempo(value=220), marker=None, isRepeatOpen=False, repeatAlternative=0, repeatClose=-1, tripletFeel=<TripletFeel.none: 0>, direction=None, fromDirection=None),\n",
       " MeasureHeader(number=131, start=500160, hasDoubleBar=False, keySignature=<KeySignature.CMajor: (0, 0)>, timeSignature=TimeSignature(numerator=4, denominator=Duration(value=4, isDotted=False, isDoubleDotted=False, tuplet=Tuplet(enters=1, times=1)), beams=[2, 2, 2, 2]), tempo=Tempo(value=220), marker=None, isRepeatOpen=False, repeatAlternative=0, repeatClose=-1, tripletFeel=<TripletFeel.none: 0>, direction=None, fromDirection=None),\n",
       " MeasureHeader(number=132, start=504000, hasDoubleBar=False, keySignature=<KeySignature.CMajor: (0, 0)>, timeSignature=TimeSignature(numerator=4, denominator=Duration(value=4, isDotted=False, isDoubleDotted=False, tuplet=Tuplet(enters=1, times=1)), beams=[2, 2, 2, 2]), tempo=Tempo(value=220), marker=None, isRepeatOpen=False, repeatAlternative=0, repeatClose=-1, tripletFeel=<TripletFeel.none: 0>, direction=None, fromDirection=None),\n",
       " MeasureHeader(number=133, start=507840, hasDoubleBar=False, keySignature=<KeySignature.CMajor: (0, 0)>, timeSignature=TimeSignature(numerator=4, denominator=Duration(value=4, isDotted=False, isDoubleDotted=False, tuplet=Tuplet(enters=1, times=1)), beams=[2, 2, 2, 2]), tempo=Tempo(value=220), marker=None, isRepeatOpen=False, repeatAlternative=0, repeatClose=-1, tripletFeel=<TripletFeel.none: 0>, direction=None, fromDirection=None),\n",
       " MeasureHeader(number=134, start=511680, hasDoubleBar=False, keySignature=<KeySignature.CMajor: (0, 0)>, timeSignature=TimeSignature(numerator=4, denominator=Duration(value=4, isDotted=False, isDoubleDotted=False, tuplet=Tuplet(enters=1, times=1)), beams=[2, 2, 2, 2]), tempo=Tempo(value=220), marker=None, isRepeatOpen=False, repeatAlternative=0, repeatClose=-1, tripletFeel=<TripletFeel.none: 0>, direction=None, fromDirection=None),\n",
       " MeasureHeader(number=135, start=515520, hasDoubleBar=False, keySignature=<KeySignature.CMajor: (0, 0)>, timeSignature=TimeSignature(numerator=4, denominator=Duration(value=4, isDotted=False, isDoubleDotted=False, tuplet=Tuplet(enters=1, times=1)), beams=[2, 2, 2, 2]), tempo=Tempo(value=220), marker=None, isRepeatOpen=False, repeatAlternative=0, repeatClose=-1, tripletFeel=<TripletFeel.none: 0>, direction=None, fromDirection=None),\n",
       " MeasureHeader(number=136, start=519360, hasDoubleBar=False, keySignature=<KeySignature.CMajor: (0, 0)>, timeSignature=TimeSignature(numerator=4, denominator=Duration(value=4, isDotted=False, isDoubleDotted=False, tuplet=Tuplet(enters=1, times=1)), beams=[2, 2, 2, 2]), tempo=Tempo(value=220), marker=None, isRepeatOpen=False, repeatAlternative=0, repeatClose=-1, tripletFeel=<TripletFeel.none: 0>, direction=None, fromDirection=None),\n",
       " MeasureHeader(number=137, start=523200, hasDoubleBar=False, keySignature=<KeySignature.CMajor: (0, 0)>, timeSignature=TimeSignature(numerator=4, denominator=Duration(value=4, isDotted=False, isDoubleDotted=False, tuplet=Tuplet(enters=1, times=1)), beams=[2, 2, 2, 2]), tempo=Tempo(value=220), marker=None, isRepeatOpen=False, repeatAlternative=0, repeatClose=-1, tripletFeel=<TripletFeel.none: 0>, direction=None, fromDirection=None),\n",
       " MeasureHeader(number=138, start=527040, hasDoubleBar=False, keySignature=<KeySignature.CMajor: (0, 0)>, timeSignature=TimeSignature(numerator=4, denominator=Duration(value=4, isDotted=False, isDoubleDotted=False, tuplet=Tuplet(enters=1, times=1)), beams=[2, 2, 2, 2]), tempo=Tempo(value=220), marker=None, isRepeatOpen=False, repeatAlternative=0, repeatClose=-1, tripletFeel=<TripletFeel.none: 0>, direction=None, fromDirection=None),\n",
       " MeasureHeader(number=139, start=530880, hasDoubleBar=False, keySignature=<KeySignature.CMajor: (0, 0)>, timeSignature=TimeSignature(numerator=4, denominator=Duration(value=4, isDotted=False, isDoubleDotted=False, tuplet=Tuplet(enters=1, times=1)), beams=[2, 2, 2, 2]), tempo=Tempo(value=220), marker=None, isRepeatOpen=False, repeatAlternative=0, repeatClose=-1, tripletFeel=<TripletFeel.none: 0>, direction=None, fromDirection=None),\n",
       " MeasureHeader(number=140, start=534720, hasDoubleBar=False, keySignature=<KeySignature.CMajor: (0, 0)>, timeSignature=TimeSignature(numerator=4, denominator=Duration(value=4, isDotted=False, isDoubleDotted=False, tuplet=Tuplet(enters=1, times=1)), beams=[2, 2, 2, 2]), tempo=Tempo(value=220), marker=None, isRepeatOpen=False, repeatAlternative=0, repeatClose=-1, tripletFeel=<TripletFeel.none: 0>, direction=None, fromDirection=None),\n",
       " MeasureHeader(number=141, start=538560, hasDoubleBar=False, keySignature=<KeySignature.CMajor: (0, 0)>, timeSignature=TimeSignature(numerator=4, denominator=Duration(value=4, isDotted=False, isDoubleDotted=False, tuplet=Tuplet(enters=1, times=1)), beams=[2, 2, 2, 2]), tempo=Tempo(value=220), marker=None, isRepeatOpen=False, repeatAlternative=0, repeatClose=-1, tripletFeel=<TripletFeel.none: 0>, direction=None, fromDirection=None),\n",
       " MeasureHeader(number=142, start=542400, hasDoubleBar=False, keySignature=<KeySignature.CMajor: (0, 0)>, timeSignature=TimeSignature(numerator=4, denominator=Duration(value=4, isDotted=False, isDoubleDotted=False, tuplet=Tuplet(enters=1, times=1)), beams=[2, 2, 2, 2]), tempo=Tempo(value=220), marker=None, isRepeatOpen=False, repeatAlternative=0, repeatClose=-1, tripletFeel=<TripletFeel.none: 0>, direction=None, fromDirection=None),\n",
       " MeasureHeader(number=143, start=546240, hasDoubleBar=False, keySignature=<KeySignature.CMajor: (0, 0)>, timeSignature=TimeSignature(numerator=4, denominator=Duration(value=4, isDotted=False, isDoubleDotted=False, tuplet=Tuplet(enters=1, times=1)), beams=[2, 2, 2, 2]), tempo=Tempo(value=220), marker=None, isRepeatOpen=False, repeatAlternative=0, repeatClose=-1, tripletFeel=<TripletFeel.none: 0>, direction=None, fromDirection=None),\n",
       " MeasureHeader(number=144, start=550080, hasDoubleBar=False, keySignature=<KeySignature.CMajor: (0, 0)>, timeSignature=TimeSignature(numerator=4, denominator=Duration(value=4, isDotted=False, isDoubleDotted=False, tuplet=Tuplet(enters=1, times=1)), beams=[2, 2, 2, 2]), tempo=Tempo(value=220), marker=None, isRepeatOpen=False, repeatAlternative=0, repeatClose=-1, tripletFeel=<TripletFeel.none: 0>, direction=None, fromDirection=None),\n",
       " MeasureHeader(number=145, start=553920, hasDoubleBar=False, keySignature=<KeySignature.CMajor: (0, 0)>, timeSignature=TimeSignature(numerator=4, denominator=Duration(value=4, isDotted=False, isDoubleDotted=False, tuplet=Tuplet(enters=1, times=1)), beams=[2, 2, 2, 2]), tempo=Tempo(value=220), marker=None, isRepeatOpen=False, repeatAlternative=0, repeatClose=-1, tripletFeel=<TripletFeel.none: 0>, direction=None, fromDirection=None),\n",
       " MeasureHeader(number=146, start=557760, hasDoubleBar=False, keySignature=<KeySignature.CMajor: (0, 0)>, timeSignature=TimeSignature(numerator=4, denominator=Duration(value=4, isDotted=False, isDoubleDotted=False, tuplet=Tuplet(enters=1, times=1)), beams=[2, 2, 2, 2]), tempo=Tempo(value=220), marker=None, isRepeatOpen=False, repeatAlternative=0, repeatClose=-1, tripletFeel=<TripletFeel.none: 0>, direction=None, fromDirection=None),\n",
       " MeasureHeader(number=147, start=561600, hasDoubleBar=False, keySignature=<KeySignature.CMajor: (0, 0)>, timeSignature=TimeSignature(numerator=4, denominator=Duration(value=4, isDotted=False, isDoubleDotted=False, tuplet=Tuplet(enters=1, times=1)), beams=[2, 2, 2, 2]), tempo=Tempo(value=220), marker=None, isRepeatOpen=False, repeatAlternative=0, repeatClose=-1, tripletFeel=<TripletFeel.none: 0>, direction=None, fromDirection=None),\n",
       " MeasureHeader(number=148, start=565440, hasDoubleBar=False, keySignature=<KeySignature.CMajor: (0, 0)>, timeSignature=TimeSignature(numerator=4, denominator=Duration(value=4, isDotted=False, isDoubleDotted=False, tuplet=Tuplet(enters=1, times=1)), beams=[2, 2, 2, 2]), tempo=Tempo(value=220), marker=None, isRepeatOpen=False, repeatAlternative=0, repeatClose=-1, tripletFeel=<TripletFeel.none: 0>, direction=None, fromDirection=None),\n",
       " MeasureHeader(number=149, start=569280, hasDoubleBar=False, keySignature=<KeySignature.CMajor: (0, 0)>, timeSignature=TimeSignature(numerator=4, denominator=Duration(value=4, isDotted=False, isDoubleDotted=False, tuplet=Tuplet(enters=1, times=1)), beams=[2, 2, 2, 2]), tempo=Tempo(value=220), marker=None, isRepeatOpen=False, repeatAlternative=0, repeatClose=-1, tripletFeel=<TripletFeel.none: 0>, direction=None, fromDirection=None),\n",
       " MeasureHeader(number=150, start=573120, hasDoubleBar=False, keySignature=<KeySignature.CMajor: (0, 0)>, timeSignature=TimeSignature(numerator=4, denominator=Duration(value=4, isDotted=False, isDoubleDotted=False, tuplet=Tuplet(enters=1, times=1)), beams=[2, 2, 2, 2]), tempo=Tempo(value=220), marker=None, isRepeatOpen=False, repeatAlternative=0, repeatClose=-1, tripletFeel=<TripletFeel.none: 0>, direction=None, fromDirection=None)]"
      ]
     },
     "execution_count": 10,
     "metadata": {},
     "output_type": "execute_result"
    }
   ],
   "source": [
    "## measureHeaders: contain all characteristics of a measure\n",
    "# All measures with:\n",
    "# start tick\n",
    "# hasDoubleBar\n",
    "# key\n",
    "# timeSignature\n",
    "# tempo\n",
    "# tripletFeel\n",
    "# some shit I don't get yet: marker, isRepeatOpen, repeatAlternative, repeatClose, direction, fromDirection\n",
    "va.measureHeaders"
   ]
  },
  {
   "cell_type": "code",
   "execution_count": 11,
   "metadata": {},
   "outputs": [
    {
     "data": {
      "text/plain": [
       "RSEMasterEffect(volume=0, reverb=0, equalizer=RSEEqualizer(knobs=[0.0, 0.0, 0.0, 0.0, 0.0, 0.0, 0.0, 0.0, 0.0, 0.0], gain=0.0))"
      ]
     },
     "execution_count": 11,
     "metadata": {},
     "output_type": "execute_result"
    }
   ],
   "source": [
    "va.masterEffect"
   ]
  },
  {
   "cell_type": "code",
   "execution_count": 12,
   "metadata": {},
   "outputs": [
    {
     "name": "stdout",
     "output_type": "stream",
     "text": [
      "['eighth', 'fromTime', 'half', 'hundredTwentyEighth', 'index', 'isDotted', 'isDoubleDotted', 'minTime', 'quarter', 'quarterTime', 'sixteenth', 'sixtyFourth', 'thirtySecond', 'time', 'tuplet', 'value', 'whole']\n"
     ]
    },
    {
     "data": {
      "text/plain": [
       "960"
      ]
     },
     "execution_count": 12,
     "metadata": {},
     "output_type": "execute_result"
    }
   ],
   "source": [
    "## timeSignature\n",
    "sign = va.measureHeaders[0].timeSignature\n",
    "numerator = sign.numerator\n",
    "denominator = sign.denominator\n",
    "obj_attr(denominator)\n",
    "denominator.quarterTime"
   ]
  },
  {
   "cell_type": "code",
   "execution_count": 13,
   "metadata": {},
   "outputs": [
    {
     "name": "stdout",
     "output_type": "stream",
     "text": [
      "['clef', 'end', 'hasMarker', 'header', 'isEmpty', 'isRepeatOpen', 'keySignature', 'length', 'lineBreak', 'marker', 'maxVoices', 'number', 'repeatClose', 'start', 'tempo', 'timeSignature', 'track', 'tripletFeel', 'voices']\n"
     ]
    }
   ],
   "source": [
    "## tracks\n",
    "tracks = va.tracks  # list of tracks\n",
    "track = tracks[0]  # guitarpro.models.Track\n",
    "track_info = {\n",
    "    'channel': track.channel,  # guitarpro.models.MidiChannel\n",
    "    'rse': track.rse  # might be useful as additional feature\n",
    "}\n",
    "channel = track.channel\n",
    "measure = track.measures[5] # track measures is a list\n",
    "\n",
    "# MeasureHeader but more detailed -> contains all notes\n",
    "obj_attr(measure)"
   ]
  },
  {
   "cell_type": "code",
   "execution_count": 14,
   "metadata": {},
   "outputs": [
    {
     "name": "stdout",
     "output_type": "stream",
     "text": [
      "['beats', 'direction', 'isEmpty', 'measure']\n"
     ]
    }
   ],
   "source": [
    "obj_attr(measure.voices[0])"
   ]
  },
  {
   "cell_type": "code",
   "execution_count": 15,
   "metadata": {},
   "outputs": [
    {
     "name": "stdout",
     "output_type": "stream",
     "text": [
      "['display', 'duration', 'effect', 'hasHarmonic', 'hasVibrato', 'index', 'notes', 'octave', 'realStart', 'start', 'status', 'text', 'voice']\n"
     ]
    }
   ],
   "source": [
    "v = measure.voices[0]\n",
    "b = v.beats[0]\n",
    "obj_attr(b)"
   ]
  },
  {
   "cell_type": "code",
   "execution_count": 16,
   "metadata": {},
   "outputs": [
    {
     "data": {
      "text/plain": [
       "5"
      ]
     },
     "execution_count": 16,
     "metadata": {},
     "output_type": "execute_result"
    }
   ],
   "source": [
    "len(v.beats)"
   ]
  },
  {
   "cell_type": "code",
   "execution_count": 17,
   "metadata": {},
   "outputs": [
    {
     "name": "stdout",
     "output_type": "stream",
     "text": [
      "['clef', 'end', 'hasMarker', 'header', 'isEmpty', 'isRepeatOpen', 'keySignature', 'length', 'lineBreak', 'marker', 'maxVoices', 'number', 'repeatClose', 'start', 'tempo', 'timeSignature', 'track', 'tripletFeel', 'voices']\n"
     ]
    }
   ],
   "source": [
    "obj_attr(measure)"
   ]
  },
  {
   "cell_type": "code",
   "execution_count": 18,
   "metadata": {},
   "outputs": [
    {
     "name": "stdout",
     "output_type": "stream",
     "text": [
      "['channel', 'color', 'fretCount', 'indicateTuning', 'is12StringedGuitarTrack', 'isBanjoTrack', 'isMute', 'isPercussionTrack', 'isSolo', 'isVisible', 'measures', 'name', 'number', 'offset', 'port', 'rse', 'settings', 'song', 'strings', 'useRSE']\n"
     ]
    }
   ],
   "source": [
    "obj_attr(track)"
   ]
  },
  {
   "cell_type": "markdown",
   "metadata": {},
   "source": [
    "## Midi Excursion"
   ]
  },
  {
   "cell_type": "code",
   "execution_count": 19,
   "metadata": {},
   "outputs": [
    {
     "data": {
      "text/plain": [
       "<message note_on channel=0 note=0 velocity=0 time=0>"
      ]
     },
     "execution_count": 19,
     "metadata": {},
     "output_type": "execute_result"
    }
   ],
   "source": [
    "msg = mido.Message('note_on', note=60)\n",
    "msg.copy(note=0, velocity=0)"
   ]
  },
  {
   "cell_type": "code",
   "execution_count": 20,
   "metadata": {},
   "outputs": [],
   "source": [
    "rtmidi = mido.Backend('mido.backends.rtmidi')"
   ]
  },
  {
   "cell_type": "code",
   "execution_count": 21,
   "metadata": {},
   "outputs": [
    {
     "ename": "OSError",
     "evalue": "no ports available",
     "output_type": "error",
     "traceback": [
      "\u001b[0;31m---------------------------------------------------------------------------\u001b[0m",
      "\u001b[0;31mOSError\u001b[0m                                   Traceback (most recent call last)",
      "\u001b[0;32m<ipython-input-21-1cbfb9f2dd34>\u001b[0m in \u001b[0;36m<module>\u001b[0;34m()\u001b[0m\n\u001b[0;32m----> 1\u001b[0;31m \u001b[0moutput\u001b[0m \u001b[0;34m=\u001b[0m \u001b[0mrtmidi\u001b[0m\u001b[0;34m.\u001b[0m\u001b[0mopen_output\u001b[0m\u001b[0;34m(\u001b[0m\u001b[0;34m)\u001b[0m\u001b[0;34m\u001b[0m\u001b[0m\n\u001b[0m\u001b[1;32m      2\u001b[0m \u001b[0moutput\u001b[0m\u001b[0;34m.\u001b[0m\u001b[0msend\u001b[0m\u001b[0;34m(\u001b[0m\u001b[0mmsg\u001b[0m\u001b[0;34m)\u001b[0m\u001b[0;34m\u001b[0m\u001b[0m\n",
      "\u001b[0;32m~/Documents/python/blacknet-melancholy/ENV/lib/python3.6/site-packages/mido/backends/backend.py\u001b[0m in \u001b[0;36mopen_output\u001b[0;34m(self, name, virtual, autoreset, **kwargs)\u001b[0m\n\u001b[1;32m    109\u001b[0m             \u001b[0mname\u001b[0m \u001b[0;34m=\u001b[0m \u001b[0mself\u001b[0m\u001b[0;34m.\u001b[0m\u001b[0m_env\u001b[0m\u001b[0;34m(\u001b[0m\u001b[0;34m'MIDO_DEFAULT_OUTPUT'\u001b[0m\u001b[0;34m)\u001b[0m\u001b[0;34m\u001b[0m\u001b[0m\n\u001b[1;32m    110\u001b[0m \u001b[0;34m\u001b[0m\u001b[0m\n\u001b[0;32m--> 111\u001b[0;31m         \u001b[0;32mreturn\u001b[0m \u001b[0mself\u001b[0m\u001b[0;34m.\u001b[0m\u001b[0mmodule\u001b[0m\u001b[0;34m.\u001b[0m\u001b[0mOutput\u001b[0m\u001b[0;34m(\u001b[0m\u001b[0mname\u001b[0m\u001b[0;34m,\u001b[0m \u001b[0;34m**\u001b[0m\u001b[0mself\u001b[0m\u001b[0;34m.\u001b[0m\u001b[0m_add_api\u001b[0m\u001b[0;34m(\u001b[0m\u001b[0mkwargs\u001b[0m\u001b[0;34m)\u001b[0m\u001b[0;34m)\u001b[0m\u001b[0;34m\u001b[0m\u001b[0m\n\u001b[0m\u001b[1;32m    112\u001b[0m \u001b[0;34m\u001b[0m\u001b[0m\n\u001b[1;32m    113\u001b[0m     def open_ioport(self, name=None, virtual=False,\n",
      "\u001b[0;32m~/Documents/python/blacknet-melancholy/ENV/lib/python3.6/site-packages/mido/ports.py\u001b[0m in \u001b[0;36m__init__\u001b[0;34m(self, name, autoreset, **kwargs)\u001b[0m\n\u001b[1;32m    267\u001b[0m         \u001b[0mname\u001b[0m \u001b[0;32mis\u001b[0m \u001b[0;32mnot\u001b[0m \u001b[0mpassed\u001b[0m\u001b[0;34m,\u001b[0m \u001b[0mthe\u001b[0m \u001b[0mdefault\u001b[0m \u001b[0moutput\u001b[0m \u001b[0;32mis\u001b[0m \u001b[0mused\u001b[0m \u001b[0minstead\u001b[0m\u001b[0;34m.\u001b[0m\u001b[0;34m\u001b[0m\u001b[0m\n\u001b[1;32m    268\u001b[0m         \"\"\"\n\u001b[0;32m--> 269\u001b[0;31m         \u001b[0mBasePort\u001b[0m\u001b[0;34m.\u001b[0m\u001b[0m__init__\u001b[0m\u001b[0;34m(\u001b[0m\u001b[0mself\u001b[0m\u001b[0;34m,\u001b[0m \u001b[0mname\u001b[0m\u001b[0;34m,\u001b[0m \u001b[0;34m**\u001b[0m\u001b[0mkwargs\u001b[0m\u001b[0;34m)\u001b[0m\u001b[0;34m\u001b[0m\u001b[0m\n\u001b[0m\u001b[1;32m    270\u001b[0m         \u001b[0mself\u001b[0m\u001b[0;34m.\u001b[0m\u001b[0mautoreset\u001b[0m \u001b[0;34m=\u001b[0m \u001b[0mautoreset\u001b[0m\u001b[0;34m\u001b[0m\u001b[0m\n\u001b[1;32m    271\u001b[0m \u001b[0;34m\u001b[0m\u001b[0m\n",
      "\u001b[0;32m~/Documents/python/blacknet-melancholy/ENV/lib/python3.6/site-packages/mido/ports.py\u001b[0m in \u001b[0;36m__init__\u001b[0;34m(self, name, **kwargs)\u001b[0m\n\u001b[1;32m     86\u001b[0m             \u001b[0mself\u001b[0m\u001b[0;34m.\u001b[0m\u001b[0m_lock\u001b[0m \u001b[0;34m=\u001b[0m \u001b[0mDummyLock\u001b[0m\u001b[0;34m(\u001b[0m\u001b[0;34m)\u001b[0m\u001b[0;34m\u001b[0m\u001b[0m\n\u001b[1;32m     87\u001b[0m         \u001b[0mself\u001b[0m\u001b[0;34m.\u001b[0m\u001b[0mclosed\u001b[0m \u001b[0;34m=\u001b[0m \u001b[0;32mTrue\u001b[0m\u001b[0;34m\u001b[0m\u001b[0m\n\u001b[0;32m---> 88\u001b[0;31m         \u001b[0mself\u001b[0m\u001b[0;34m.\u001b[0m\u001b[0m_open\u001b[0m\u001b[0;34m(\u001b[0m\u001b[0;34m**\u001b[0m\u001b[0mkwargs\u001b[0m\u001b[0;34m)\u001b[0m\u001b[0;34m\u001b[0m\u001b[0m\n\u001b[0m\u001b[1;32m     89\u001b[0m         \u001b[0mself\u001b[0m\u001b[0;34m.\u001b[0m\u001b[0mclosed\u001b[0m \u001b[0;34m=\u001b[0m \u001b[0;32mFalse\u001b[0m\u001b[0;34m\u001b[0m\u001b[0m\n\u001b[1;32m     90\u001b[0m \u001b[0;34m\u001b[0m\u001b[0m\n",
      "\u001b[0;32m~/Documents/python/blacknet-melancholy/ENV/lib/python3.6/site-packages/mido/backends/rtmidi.py\u001b[0m in \u001b[0;36m_open\u001b[0;34m(self, client_name, virtual, api, callback, **kwargs)\u001b[0m\n\u001b[1;32m    191\u001b[0m \u001b[0;34m\u001b[0m\u001b[0m\n\u001b[1;32m    192\u001b[0m         self.name = _open_port(self._rt, self.name, client_name=client_name,\n\u001b[0;32m--> 193\u001b[0;31m                                virtual=virtual, api=self.api)\n\u001b[0m\u001b[1;32m    194\u001b[0m         \u001b[0mself\u001b[0m\u001b[0;34m.\u001b[0m\u001b[0mclosed\u001b[0m \u001b[0;34m=\u001b[0m \u001b[0;32mFalse\u001b[0m\u001b[0;34m\u001b[0m\u001b[0m\n\u001b[1;32m    195\u001b[0m \u001b[0;34m\u001b[0m\u001b[0m\n",
      "\u001b[0;32m~/Documents/python/blacknet-melancholy/ENV/lib/python3.6/site-packages/mido/backends/rtmidi.py\u001b[0m in \u001b[0;36m_open_port\u001b[0;34m(rt, name, client_name, virtual, api)\u001b[0m\n\u001b[1;32m     84\u001b[0m     \u001b[0mport_names\u001b[0m \u001b[0;34m=\u001b[0m \u001b[0mrt\u001b[0m\u001b[0;34m.\u001b[0m\u001b[0mget_ports\u001b[0m\u001b[0;34m(\u001b[0m\u001b[0;34m)\u001b[0m\u001b[0;34m\u001b[0m\u001b[0m\n\u001b[1;32m     85\u001b[0m     \u001b[0;32mif\u001b[0m \u001b[0mlen\u001b[0m\u001b[0;34m(\u001b[0m\u001b[0mport_names\u001b[0m\u001b[0;34m)\u001b[0m \u001b[0;34m==\u001b[0m \u001b[0;36m0\u001b[0m\u001b[0;34m:\u001b[0m\u001b[0;34m\u001b[0m\u001b[0m\n\u001b[0;32m---> 86\u001b[0;31m         \u001b[0;32mraise\u001b[0m \u001b[0mIOError\u001b[0m\u001b[0;34m(\u001b[0m\u001b[0;34m'no ports available'\u001b[0m\u001b[0;34m)\u001b[0m\u001b[0;34m\u001b[0m\u001b[0m\n\u001b[0m\u001b[1;32m     87\u001b[0m \u001b[0;34m\u001b[0m\u001b[0m\n\u001b[1;32m     88\u001b[0m \u001b[0;34m\u001b[0m\u001b[0m\n",
      "\u001b[0;31mOSError\u001b[0m: no ports available"
     ]
    }
   ],
   "source": [
    "output = rtmidi.open_output()\n",
    "output.send(msg)"
   ]
  },
  {
   "cell_type": "code",
   "execution_count": null,
   "metadata": {},
   "outputs": [],
   "source": [
    "mido.get_ioport_names()"
   ]
  },
  {
   "cell_type": "code",
   "execution_count": null,
   "metadata": {},
   "outputs": [],
   "source": [
    "output.panic()"
   ]
  },
  {
   "cell_type": "code",
   "execution_count": null,
   "metadata": {},
   "outputs": [],
   "source": [
    "fp = os.path.join(s.MIDI_DIR, 'miditest', 'Silverstein - Smashed Into Pieces.mid')\n",
    "from mido import MidiFile\n",
    "mid = MidiFile(fp)"
   ]
  },
  {
   "cell_type": "code",
   "execution_count": null,
   "metadata": {},
   "outputs": [],
   "source": [
    "mid.play()"
   ]
  },
  {
   "cell_type": "code",
   "execution_count": null,
   "metadata": {},
   "outputs": [],
   "source": [
    "for msg in mid.play():\n",
    "    output.send(msg)"
   ]
  },
  {
   "cell_type": "code",
   "execution_count": null,
   "metadata": {},
   "outputs": [],
   "source": [
    "msgs = list(mid.play())"
   ]
  },
  {
   "cell_type": "code",
   "execution_count": null,
   "metadata": {},
   "outputs": [],
   "source": [
    "len(msgs)"
   ]
  },
  {
   "cell_type": "code",
   "execution_count": null,
   "metadata": {},
   "outputs": [],
   "source": [
    "msgs[:200]"
   ]
  },
  {
   "cell_type": "code",
   "execution_count": null,
   "metadata": {},
   "outputs": [],
   "source": [
    "mid.ticks_per_beat"
   ]
  },
  {
   "cell_type": "code",
   "execution_count": null,
   "metadata": {},
   "outputs": [],
   "source": [
    "mido.tick2second(480, 480, mido.bpm2tempo(195))"
   ]
  },
  {
   "cell_type": "code",
   "execution_count": null,
   "metadata": {},
   "outputs": [],
   "source": [
    "60./195"
   ]
  },
  {
   "cell_type": "code",
   "execution_count": null,
   "metadata": {},
   "outputs": [],
   "source": [
    "t = mid.tracks[1]\n",
    "mf = MidiFile(type=0)\n",
    "mf.tracks = [t]\n",
    "t.name"
   ]
  },
  {
   "cell_type": "code",
   "execution_count": null,
   "metadata": {},
   "outputs": [],
   "source": [
    "mf.print_tracks()"
   ]
  },
  {
   "cell_type": "markdown",
   "metadata": {},
   "source": [
    "## Create Midi file from guitar pro"
   ]
  },
  {
   "cell_type": "code",
   "execution_count": null,
   "metadata": {},
   "outputs": [],
   "source": [
    "from mido import MidiFile, Message, MidiTrack\n",
    "\n",
    "TUNINGS = {\n",
    "    'EADGBE': [('E', 4), ('B', 3), ('G', 3), ('D', 3), ('A', 2), ('E', 2)]\n",
    "}\n",
    "\n",
    "NOTE_MAP = {\n",
    "    'C': 0, 'C#': 1, 'D': 2, 'D#': 3, 'E': 4, 'F': 5, 'F#': 6, 'G': 7, 'G#': 8, 'A': 9, 'A#': 10, 'B': 11\n",
    "}\n",
    "\n",
    "def note2midi(note, octave):\n",
    "    '''C_{-1} = 0'''\n",
    "    return (octave + 1) * 12 + NOTE_MAP[note]\n",
    "\n",
    "def tuning_to_notes(tuning):\n",
    "    return [note2midi(*t) for t in tuning]"
   ]
  },
  {
   "cell_type": "code",
   "execution_count": null,
   "metadata": {},
   "outputs": [],
   "source": [
    "silv.tracks[0].measures[0].voices[0].beats[0].notes\n",
    "obj_attr(silv.tracks[0].measures[0].voices[0].beats[0])\n",
    "silv.tracks[0].measures[0].voices[0].beats[0].duration"
   ]
  },
  {
   "cell_type": "code",
   "execution_count": null,
   "metadata": {},
   "outputs": [],
   "source": [
    "def tab2midi(string, fret, tuning='EADGBE'):\n",
    "    '''get midinote from fretboard guitar\n",
    "    \n",
    "    Watch out: string is base-1'''\n",
    "    if type(tuning) == str:\n",
    "        tuning = TUNINGS[tuning]\n",
    "    return note2midi(*tuning[string-1]) + fret\n",
    "\n",
    "assert tab2midi(1, 5) == 69"
   ]
  },
  {
   "cell_type": "code",
   "execution_count": null,
   "metadata": {},
   "outputs": [],
   "source": [
    "def generate_note_on(**kwargs):\n",
    "    '''yield note event'''\n",
    "    return Message('note_on', **kwargs)\n",
    "    \n",
    "def generate_note_off(**kwargs):\n",
    "    '''yield note off event'''\n",
    "    return Message('note_off', **kwargs)\n",
    "    \n",
    "eg = 8* [\n",
    "    (generate_note_on, {'note': tab2midi(2, 10),}), \n",
    "    (generate_note_on, {'note': tab2midi(3, 11),}), \n",
    "    (generate_note_off, {'note': tab2midi(2, 10), 'time': 240}),    \n",
    "    (generate_note_off, {'note': tab2midi(3, 11),}),\n",
    "]"
   ]
  },
  {
   "cell_type": "code",
   "execution_count": null,
   "metadata": {},
   "outputs": [],
   "source": [
    "mf = MidiFile(type=1)\n",
    "mf.add_track()\n",
    "\n",
    "for call, kwargs in eg:\n",
    "    mf.tracks[0].append(call(**kwargs))"
   ]
  },
  {
   "cell_type": "code",
   "execution_count": null,
   "metadata": {},
   "outputs": [],
   "source": [
    "output = mido.open_output()\n",
    "for ev in mf.play():\n",
    "    output.send(ev)"
   ]
  },
  {
   "cell_type": "code",
   "execution_count": null,
   "metadata": {},
   "outputs": [],
   "source": [
    "output.panic()"
   ]
  },
  {
   "cell_type": "code",
   "execution_count": null,
   "metadata": {},
   "outputs": [],
   "source": [
    "def parse_beat(b, tempo=120):\n",
    "    '''return array of messages'''\n",
    "    notes = b.notes"
   ]
  },
  {
   "cell_type": "markdown",
   "metadata": {},
   "source": [
    "## Create Midi file from guitar pro (MidiUtil)"
   ]
  },
  {
   "cell_type": "code",
   "execution_count": null,
   "metadata": {},
   "outputs": [],
   "source": []
  }
 ],
 "metadata": {
  "kernelspec": {
   "display_name": "Python 3",
   "language": "python",
   "name": "python3"
  },
  "language_info": {
   "codemirror_mode": {
    "name": "ipython",
    "version": 3
   },
   "file_extension": ".py",
   "mimetype": "text/x-python",
   "name": "python",
   "nbconvert_exporter": "python",
   "pygments_lexer": "ipython3",
   "version": "3.6.4"
  }
 },
 "nbformat": 4,
 "nbformat_minor": 2
}
